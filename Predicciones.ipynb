{
  "nbformat": 4,
  "nbformat_minor": 0,
  "metadata": {
    "colab": {
      "name": "Predicciones.ipynb",
      "provenance": [],
      "authorship_tag": "ABX9TyN9q6MXVJqrgU7G3eQ/U7YB",
      "include_colab_link": true
    },
    "kernelspec": {
      "name": "python3",
      "display_name": "Python 3"
    },
    "language_info": {
      "name": "python"
    }
  },
  "cells": [
    {
      "cell_type": "markdown",
      "metadata": {
        "id": "view-in-github",
        "colab_type": "text"
      },
      "source": [
        "<a href=\"https://colab.research.google.com/github/diego51alejo/Crime_Prediction/blob/master/Predicciones.ipynb\" target=\"_parent\"><img src=\"https://colab.research.google.com/assets/colab-badge.svg\" alt=\"Open In Colab\"/></a>"
      ]
    },
    {
      "cell_type": "markdown",
      "source": [
        "# **Clasificación y predicción de los delitos**\n",
        "\n",
        "Se realiza una clasificación de los tipos de delitos y una predicción en diferentes ventanas de tiempo con series de tiempo a partir de AutoArima."
      ],
      "metadata": {
        "id": "whLeR9VcB8vr"
      }
    },
    {
      "cell_type": "markdown",
      "source": [
        "## Carga de la data"
      ],
      "metadata": {
        "id": "FEybBEu4Afn2"
      }
    },
    {
      "cell_type": "code",
      "execution_count": 1,
      "metadata": {
        "colab": {
          "base_uri": "https://localhost:8080/"
        },
        "id": "BJvHjX7A1Lo8",
        "outputId": "20bf7bd0-130e-4809-df3f-0c66e253037d"
      },
      "outputs": [
        {
          "output_type": "stream",
          "name": "stdout",
          "text": [
            "Mounted at /content/drive/\n",
            "/content/drive/My Drive/Colab Notebooks/db\n"
          ]
        }
      ],
      "source": [
        "from google.colab import drive\n",
        "drive.mount('/content/drive/')\n",
        "%cd '/content/drive/My Drive/Colab Notebooks/db'"
      ]
    },
    {
      "cell_type": "code",
      "source": [
        "import pandas as pd\n",
        "import numpy as np"
      ],
      "metadata": {
        "id": "mShOuqUj175F"
      },
      "execution_count": 2,
      "outputs": []
    },
    {
      "cell_type": "code",
      "source": [
        "df = pd.read_csv('crime_bucaramanga_act.csv')"
      ],
      "metadata": {
        "id": "0DEVTE9OFDaj"
      },
      "execution_count": 3,
      "outputs": []
    },
    {
      "cell_type": "code",
      "source": [
        "df1 = df[df['CONDUCTA'] == 'HURTO A PERSONAS']"
      ],
      "metadata": {
        "id": "0Dn2wdiTDrcr"
      },
      "execution_count": 4,
      "outputs": []
    },
    {
      "cell_type": "code",
      "source": [
        "df1"
      ],
      "metadata": {
        "colab": {
          "base_uri": "https://localhost:8080/",
          "height": 678
        },
        "id": "KYV4mEZND10_",
        "outputId": "c0308cd9-4e41-4542-902a-26df079054af"
      },
      "execution_count": 5,
      "outputs": [
        {
          "output_type": "execute_result",
          "data": {
            "text/plain": [
              "               CONDUCTA   LATITUD   LONGITUD          NOM_COMUNA  \\\n",
              "0      HURTO A PERSONAS  7.125632 -73.107730            ORIENTAL   \n",
              "3      HURTO A PERSONAS  7.094324 -73.104601   LAGOS DEL CACIQUE   \n",
              "5      HURTO A PERSONAS  7.178242 -73.132504               NORTE   \n",
              "6      HURTO A PERSONAS  7.103706 -73.123374        LA CIUDADELA   \n",
              "7      HURTO A PERSONAS  7.121896 -73.114334            ORIENTAL   \n",
              "...                 ...       ...        ...                 ...   \n",
              "67502  HURTO A PERSONAS  7.118838 -73.123032              CENTRO   \n",
              "67503  HURTO A PERSONAS  7.101214 -73.104663   LAGOS DEL CACIQUE   \n",
              "67504  HURTO A PERSONAS  7.105120 -73.097117  CABECERA DEL LLANO   \n",
              "67505  HURTO A PERSONAS  7.144403 -73.103213           MORRORICO   \n",
              "67506  HURTO A PERSONAS  7.115386 -73.122661        LA CONCORDIA   \n",
              "\n",
              "                 BARRIOS_HECHO   ANO        MES  DIA DIA_SEMANA     GENERO  \\\n",
              "0                 LAS AMERICAS  2014      ENERO    1  MIÉRCOLES  MASCULINO   \n",
              "3             BALCON DEL TEJAR  2014      ENERO    1  MIÉRCOLES  MASCULINO   \n",
              "5                    COLORADOS  2014      ENERO    1  MIÉRCOLES  MASCULINO   \n",
              "6      CIUDADELA REAL DE MINAS  2014      ENERO    2     JUEVES  MASCULINO   \n",
              "7             MEJORAS PUBLICAS  2014      ENERO    2     JUEVES   FEMENINO   \n",
              "...                        ...   ...        ...  ...        ...        ...   \n",
              "67502                   CENTRO  2020  DICIEMBRE   31     JUEVES  MASCULINO   \n",
              "67503                 EL TEJAR  2020  DICIEMBRE   31     JUEVES  MASCULINO   \n",
              "67504            PAN DE AZUCAR  2020  DICIEMBRE   31     JUEVES   FEMENINO   \n",
              "67505       LA MALAÑA (URBANO)  2020  DICIEMBRE   31     JUEVES  MASCULINO   \n",
              "67506             LA CONCORDIA  2020  DICIEMBRE   31     JUEVES  MASCULINO   \n",
              "\n",
              "      EDAD          MOVIL_VICTIMA          MOVIL_AGRESOR CONDUCTA_SIMP  \n",
              "0       28                  A PIE                  A PIE         HURTO  \n",
              "3       27                  A PIE                  A PIE         HURTO  \n",
              "5       31                  A PIE                  A PIE         HURTO  \n",
              "6       47                  A PIE                  A PIE         HURTO  \n",
              "7       21                  A PIE                  A PIE         HURTO  \n",
              "...    ...                    ...                    ...           ...  \n",
              "67502   26                  A PIE                  A PIE         HURTO  \n",
              "67503   49                  A PIE  CONDUCTOR MOTOCICLETA         HURTO  \n",
              "67504   40                  A PIE                  A PIE         HURTO  \n",
              "67505   46  CONDUCTOR MOTOCICLETA                  A PIE         HURTO  \n",
              "67506   31                  A PIE   PASAJERO MOTOCICLETA         HURTO  \n",
              "\n",
              "[37295 rows x 14 columns]"
            ],
            "text/html": [
              "\n",
              "  <div id=\"df-23c2d365-bde6-4ce4-9462-ee30fef30f86\">\n",
              "    <div class=\"colab-df-container\">\n",
              "      <div>\n",
              "<style scoped>\n",
              "    .dataframe tbody tr th:only-of-type {\n",
              "        vertical-align: middle;\n",
              "    }\n",
              "\n",
              "    .dataframe tbody tr th {\n",
              "        vertical-align: top;\n",
              "    }\n",
              "\n",
              "    .dataframe thead th {\n",
              "        text-align: right;\n",
              "    }\n",
              "</style>\n",
              "<table border=\"1\" class=\"dataframe\">\n",
              "  <thead>\n",
              "    <tr style=\"text-align: right;\">\n",
              "      <th></th>\n",
              "      <th>CONDUCTA</th>\n",
              "      <th>LATITUD</th>\n",
              "      <th>LONGITUD</th>\n",
              "      <th>NOM_COMUNA</th>\n",
              "      <th>BARRIOS_HECHO</th>\n",
              "      <th>ANO</th>\n",
              "      <th>MES</th>\n",
              "      <th>DIA</th>\n",
              "      <th>DIA_SEMANA</th>\n",
              "      <th>GENERO</th>\n",
              "      <th>EDAD</th>\n",
              "      <th>MOVIL_VICTIMA</th>\n",
              "      <th>MOVIL_AGRESOR</th>\n",
              "      <th>CONDUCTA_SIMP</th>\n",
              "    </tr>\n",
              "  </thead>\n",
              "  <tbody>\n",
              "    <tr>\n",
              "      <th>0</th>\n",
              "      <td>HURTO A PERSONAS</td>\n",
              "      <td>7.125632</td>\n",
              "      <td>-73.107730</td>\n",
              "      <td>ORIENTAL</td>\n",
              "      <td>LAS AMERICAS</td>\n",
              "      <td>2014</td>\n",
              "      <td>ENERO</td>\n",
              "      <td>1</td>\n",
              "      <td>MIÉRCOLES</td>\n",
              "      <td>MASCULINO</td>\n",
              "      <td>28</td>\n",
              "      <td>A PIE</td>\n",
              "      <td>A PIE</td>\n",
              "      <td>HURTO</td>\n",
              "    </tr>\n",
              "    <tr>\n",
              "      <th>3</th>\n",
              "      <td>HURTO A PERSONAS</td>\n",
              "      <td>7.094324</td>\n",
              "      <td>-73.104601</td>\n",
              "      <td>LAGOS DEL CACIQUE</td>\n",
              "      <td>BALCON DEL TEJAR</td>\n",
              "      <td>2014</td>\n",
              "      <td>ENERO</td>\n",
              "      <td>1</td>\n",
              "      <td>MIÉRCOLES</td>\n",
              "      <td>MASCULINO</td>\n",
              "      <td>27</td>\n",
              "      <td>A PIE</td>\n",
              "      <td>A PIE</td>\n",
              "      <td>HURTO</td>\n",
              "    </tr>\n",
              "    <tr>\n",
              "      <th>5</th>\n",
              "      <td>HURTO A PERSONAS</td>\n",
              "      <td>7.178242</td>\n",
              "      <td>-73.132504</td>\n",
              "      <td>NORTE</td>\n",
              "      <td>COLORADOS</td>\n",
              "      <td>2014</td>\n",
              "      <td>ENERO</td>\n",
              "      <td>1</td>\n",
              "      <td>MIÉRCOLES</td>\n",
              "      <td>MASCULINO</td>\n",
              "      <td>31</td>\n",
              "      <td>A PIE</td>\n",
              "      <td>A PIE</td>\n",
              "      <td>HURTO</td>\n",
              "    </tr>\n",
              "    <tr>\n",
              "      <th>6</th>\n",
              "      <td>HURTO A PERSONAS</td>\n",
              "      <td>7.103706</td>\n",
              "      <td>-73.123374</td>\n",
              "      <td>LA CIUDADELA</td>\n",
              "      <td>CIUDADELA REAL DE MINAS</td>\n",
              "      <td>2014</td>\n",
              "      <td>ENERO</td>\n",
              "      <td>2</td>\n",
              "      <td>JUEVES</td>\n",
              "      <td>MASCULINO</td>\n",
              "      <td>47</td>\n",
              "      <td>A PIE</td>\n",
              "      <td>A PIE</td>\n",
              "      <td>HURTO</td>\n",
              "    </tr>\n",
              "    <tr>\n",
              "      <th>7</th>\n",
              "      <td>HURTO A PERSONAS</td>\n",
              "      <td>7.121896</td>\n",
              "      <td>-73.114334</td>\n",
              "      <td>ORIENTAL</td>\n",
              "      <td>MEJORAS PUBLICAS</td>\n",
              "      <td>2014</td>\n",
              "      <td>ENERO</td>\n",
              "      <td>2</td>\n",
              "      <td>JUEVES</td>\n",
              "      <td>FEMENINO</td>\n",
              "      <td>21</td>\n",
              "      <td>A PIE</td>\n",
              "      <td>A PIE</td>\n",
              "      <td>HURTO</td>\n",
              "    </tr>\n",
              "    <tr>\n",
              "      <th>...</th>\n",
              "      <td>...</td>\n",
              "      <td>...</td>\n",
              "      <td>...</td>\n",
              "      <td>...</td>\n",
              "      <td>...</td>\n",
              "      <td>...</td>\n",
              "      <td>...</td>\n",
              "      <td>...</td>\n",
              "      <td>...</td>\n",
              "      <td>...</td>\n",
              "      <td>...</td>\n",
              "      <td>...</td>\n",
              "      <td>...</td>\n",
              "      <td>...</td>\n",
              "    </tr>\n",
              "    <tr>\n",
              "      <th>67502</th>\n",
              "      <td>HURTO A PERSONAS</td>\n",
              "      <td>7.118838</td>\n",
              "      <td>-73.123032</td>\n",
              "      <td>CENTRO</td>\n",
              "      <td>CENTRO</td>\n",
              "      <td>2020</td>\n",
              "      <td>DICIEMBRE</td>\n",
              "      <td>31</td>\n",
              "      <td>JUEVES</td>\n",
              "      <td>MASCULINO</td>\n",
              "      <td>26</td>\n",
              "      <td>A PIE</td>\n",
              "      <td>A PIE</td>\n",
              "      <td>HURTO</td>\n",
              "    </tr>\n",
              "    <tr>\n",
              "      <th>67503</th>\n",
              "      <td>HURTO A PERSONAS</td>\n",
              "      <td>7.101214</td>\n",
              "      <td>-73.104663</td>\n",
              "      <td>LAGOS DEL CACIQUE</td>\n",
              "      <td>EL TEJAR</td>\n",
              "      <td>2020</td>\n",
              "      <td>DICIEMBRE</td>\n",
              "      <td>31</td>\n",
              "      <td>JUEVES</td>\n",
              "      <td>MASCULINO</td>\n",
              "      <td>49</td>\n",
              "      <td>A PIE</td>\n",
              "      <td>CONDUCTOR MOTOCICLETA</td>\n",
              "      <td>HURTO</td>\n",
              "    </tr>\n",
              "    <tr>\n",
              "      <th>67504</th>\n",
              "      <td>HURTO A PERSONAS</td>\n",
              "      <td>7.105120</td>\n",
              "      <td>-73.097117</td>\n",
              "      <td>CABECERA DEL LLANO</td>\n",
              "      <td>PAN DE AZUCAR</td>\n",
              "      <td>2020</td>\n",
              "      <td>DICIEMBRE</td>\n",
              "      <td>31</td>\n",
              "      <td>JUEVES</td>\n",
              "      <td>FEMENINO</td>\n",
              "      <td>40</td>\n",
              "      <td>A PIE</td>\n",
              "      <td>A PIE</td>\n",
              "      <td>HURTO</td>\n",
              "    </tr>\n",
              "    <tr>\n",
              "      <th>67505</th>\n",
              "      <td>HURTO A PERSONAS</td>\n",
              "      <td>7.144403</td>\n",
              "      <td>-73.103213</td>\n",
              "      <td>MORRORICO</td>\n",
              "      <td>LA MALAÑA (URBANO)</td>\n",
              "      <td>2020</td>\n",
              "      <td>DICIEMBRE</td>\n",
              "      <td>31</td>\n",
              "      <td>JUEVES</td>\n",
              "      <td>MASCULINO</td>\n",
              "      <td>46</td>\n",
              "      <td>CONDUCTOR MOTOCICLETA</td>\n",
              "      <td>A PIE</td>\n",
              "      <td>HURTO</td>\n",
              "    </tr>\n",
              "    <tr>\n",
              "      <th>67506</th>\n",
              "      <td>HURTO A PERSONAS</td>\n",
              "      <td>7.115386</td>\n",
              "      <td>-73.122661</td>\n",
              "      <td>LA CONCORDIA</td>\n",
              "      <td>LA CONCORDIA</td>\n",
              "      <td>2020</td>\n",
              "      <td>DICIEMBRE</td>\n",
              "      <td>31</td>\n",
              "      <td>JUEVES</td>\n",
              "      <td>MASCULINO</td>\n",
              "      <td>31</td>\n",
              "      <td>A PIE</td>\n",
              "      <td>PASAJERO MOTOCICLETA</td>\n",
              "      <td>HURTO</td>\n",
              "    </tr>\n",
              "  </tbody>\n",
              "</table>\n",
              "<p>37295 rows × 14 columns</p>\n",
              "</div>\n",
              "      <button class=\"colab-df-convert\" onclick=\"convertToInteractive('df-23c2d365-bde6-4ce4-9462-ee30fef30f86')\"\n",
              "              title=\"Convert this dataframe to an interactive table.\"\n",
              "              style=\"display:none;\">\n",
              "        \n",
              "  <svg xmlns=\"http://www.w3.org/2000/svg\" height=\"24px\"viewBox=\"0 0 24 24\"\n",
              "       width=\"24px\">\n",
              "    <path d=\"M0 0h24v24H0V0z\" fill=\"none\"/>\n",
              "    <path d=\"M18.56 5.44l.94 2.06.94-2.06 2.06-.94-2.06-.94-.94-2.06-.94 2.06-2.06.94zm-11 1L8.5 8.5l.94-2.06 2.06-.94-2.06-.94L8.5 2.5l-.94 2.06-2.06.94zm10 10l.94 2.06.94-2.06 2.06-.94-2.06-.94-.94-2.06-.94 2.06-2.06.94z\"/><path d=\"M17.41 7.96l-1.37-1.37c-.4-.4-.92-.59-1.43-.59-.52 0-1.04.2-1.43.59L10.3 9.45l-7.72 7.72c-.78.78-.78 2.05 0 2.83L4 21.41c.39.39.9.59 1.41.59.51 0 1.02-.2 1.41-.59l7.78-7.78 2.81-2.81c.8-.78.8-2.07 0-2.86zM5.41 20L4 18.59l7.72-7.72 1.47 1.35L5.41 20z\"/>\n",
              "  </svg>\n",
              "      </button>\n",
              "      \n",
              "  <style>\n",
              "    .colab-df-container {\n",
              "      display:flex;\n",
              "      flex-wrap:wrap;\n",
              "      gap: 12px;\n",
              "    }\n",
              "\n",
              "    .colab-df-convert {\n",
              "      background-color: #E8F0FE;\n",
              "      border: none;\n",
              "      border-radius: 50%;\n",
              "      cursor: pointer;\n",
              "      display: none;\n",
              "      fill: #1967D2;\n",
              "      height: 32px;\n",
              "      padding: 0 0 0 0;\n",
              "      width: 32px;\n",
              "    }\n",
              "\n",
              "    .colab-df-convert:hover {\n",
              "      background-color: #E2EBFA;\n",
              "      box-shadow: 0px 1px 2px rgba(60, 64, 67, 0.3), 0px 1px 3px 1px rgba(60, 64, 67, 0.15);\n",
              "      fill: #174EA6;\n",
              "    }\n",
              "\n",
              "    [theme=dark] .colab-df-convert {\n",
              "      background-color: #3B4455;\n",
              "      fill: #D2E3FC;\n",
              "    }\n",
              "\n",
              "    [theme=dark] .colab-df-convert:hover {\n",
              "      background-color: #434B5C;\n",
              "      box-shadow: 0px 1px 3px 1px rgba(0, 0, 0, 0.15);\n",
              "      filter: drop-shadow(0px 1px 2px rgba(0, 0, 0, 0.3));\n",
              "      fill: #FFFFFF;\n",
              "    }\n",
              "  </style>\n",
              "\n",
              "      <script>\n",
              "        const buttonEl =\n",
              "          document.querySelector('#df-23c2d365-bde6-4ce4-9462-ee30fef30f86 button.colab-df-convert');\n",
              "        buttonEl.style.display =\n",
              "          google.colab.kernel.accessAllowed ? 'block' : 'none';\n",
              "\n",
              "        async function convertToInteractive(key) {\n",
              "          const element = document.querySelector('#df-23c2d365-bde6-4ce4-9462-ee30fef30f86');\n",
              "          const dataTable =\n",
              "            await google.colab.kernel.invokeFunction('convertToInteractive',\n",
              "                                                     [key], {});\n",
              "          if (!dataTable) return;\n",
              "\n",
              "          const docLinkHtml = 'Like what you see? Visit the ' +\n",
              "            '<a target=\"_blank\" href=https://colab.research.google.com/notebooks/data_table.ipynb>data table notebook</a>'\n",
              "            + ' to learn more about interactive tables.';\n",
              "          element.innerHTML = '';\n",
              "          dataTable['output_type'] = 'display_data';\n",
              "          await google.colab.output.renderOutput(dataTable, element);\n",
              "          const docLink = document.createElement('div');\n",
              "          docLink.innerHTML = docLinkHtml;\n",
              "          element.appendChild(docLink);\n",
              "        }\n",
              "      </script>\n",
              "    </div>\n",
              "  </div>\n",
              "  "
            ]
          },
          "metadata": {},
          "execution_count": 5
        }
      ]
    },
    {
      "cell_type": "code",
      "source": [
        "dir_pandas = '/content/drive/My Drive/Colab Notebooks/db/{}'.format('datos_abiertos.csv')\n",
        "df1.to_csv(dir_pandas, sep=',', index=False)"
      ],
      "metadata": {
        "id": "I754JPf3DqKb"
      },
      "execution_count": 6,
      "outputs": []
    },
    {
      "cell_type": "markdown",
      "source": [
        "## Procesamiento de los datos"
      ],
      "metadata": {
        "id": "mWefDUvAAm8R"
      }
    },
    {
      "cell_type": "code",
      "source": [
        "m = {\n",
        "        'ENERO': \"01\",\n",
        "        'FEBRERO': \"02\",\n",
        "        'MARZO': \"03\",\n",
        "        'ABRIL': \"04\",\n",
        "        'MAYO': \"05\",\n",
        "        'JUNIO': \"06\",\n",
        "        'JULIO': \"07\",\n",
        "        'AGOSTO': \"08\",\n",
        "        'SEPTIEMBRE': \"09\",\n",
        "        'OCTUBRE': \"10\",\n",
        "        'NOVIEMBRE': \"11\",\n",
        "        'DICIEMBRE': \"12\"\n",
        "        }"
      ],
      "metadata": {
        "id": "KfZm7GvYEPiU"
      },
      "execution_count": 7,
      "outputs": []
    },
    {
      "cell_type": "code",
      "source": [
        "def check_mes(mes_int):\n",
        "  for mes in m.keys():\n",
        "    if mes == mes_int:\n",
        "      return m[mes]\n",
        "df['MES_NUM'] = df['MES'].apply(lambda x: check_mes(x))"
      ],
      "metadata": {
        "id": "Od7oqaR7BD_U"
      },
      "execution_count": 8,
      "outputs": []
    },
    {
      "cell_type": "code",
      "source": [
        "df['FECHA'] = df['DIA'].astype(str) + '-' + df['MES_NUM'] + '-' + df['ANO'].astype(str)\n",
        "df['FECHA'] = pd.to_datetime(df['FECHA'], format=\"%d-%m-%Y\")"
      ],
      "metadata": {
        "id": "k4Nhy8R5BdR-"
      },
      "execution_count": 9,
      "outputs": []
    },
    {
      "cell_type": "code",
      "source": [
        "df = df.fillna(0)"
      ],
      "metadata": {
        "id": "57L8jzdn8siY"
      },
      "execution_count": 10,
      "outputs": []
    },
    {
      "cell_type": "code",
      "source": [
        "df = df[df['ANO']<2020]"
      ],
      "metadata": {
        "id": "KeRKwriAEWCx"
      },
      "execution_count": 11,
      "outputs": []
    },
    {
      "cell_type": "code",
      "source": [
        "variables_numericas = df.filter(['LATITUD', 'LONGITUD', 'ANO'])\n",
        "variables_categoricas = df.filter(['NOM_COMUNA','MES','DIA_SEMANA','GENERO', 'MOVIL_AGRESOR', 'MOVIL_VICTIMA'])"
      ],
      "metadata": {
        "id": "hB2woqxxIA9W"
      },
      "execution_count": 12,
      "outputs": []
    },
    {
      "cell_type": "code",
      "source": [
        "df_categoricas = pd.get_dummies(variables_categoricas, drop_first=True)"
      ],
      "metadata": {
        "id": "_4bPdhwE6m-R"
      },
      "execution_count": 13,
      "outputs": []
    },
    {
      "cell_type": "code",
      "source": [
        "X = pd.concat([variables_numericas, df_categoricas], axis=1)\n",
        "X"
      ],
      "metadata": {
        "colab": {
          "base_uri": "https://localhost:8080/",
          "height": 505
        },
        "id": "BsqsDeUu7ImS",
        "outputId": "1ec07566-8d90-4d67-8021-465ce014ef3b"
      },
      "execution_count": 14,
      "outputs": [
        {
          "output_type": "execute_result",
          "data": {
            "text/plain": [
              "        LATITUD   LONGITUD   ANO  NOM_COMUNA_CENTRO  NOM_COMUNA_EGIMIENTO 1  \\\n",
              "0      7.125632 -73.107730  2014                  0                       0   \n",
              "1      7.122018 -73.122284  2014                  0                       0   \n",
              "2      7.091039 -73.132343  2014                  0                       0   \n",
              "3      7.094324 -73.104601  2014                  0                       0   \n",
              "4      7.111094 -73.140048  2014                  0                       0   \n",
              "...         ...        ...   ...                ...                     ...   \n",
              "63303  7.090710 -73.130972  2019                  0                       0   \n",
              "63304  7.133665 -73.136067  2019                  0                       0   \n",
              "63305  7.098490 -73.110478  2019                  0                       0   \n",
              "63306  7.132249 -73.119572  2019                  0                       0   \n",
              "63307  7.099585 -73.129035  2019                  0                       0   \n",
              "\n",
              "       NOM_COMUNA_EGIMIENTO 2  NOM_COMUNA_EGIMIENTO 3  \\\n",
              "0                           0                       0   \n",
              "1                           0                       0   \n",
              "2                           0                       0   \n",
              "3                           0                       0   \n",
              "4                           0                       0   \n",
              "...                       ...                     ...   \n",
              "63303                       0                       0   \n",
              "63304                       0                       0   \n",
              "63305                       0                       0   \n",
              "63306                       0                       0   \n",
              "63307                       0                       0   \n",
              "\n",
              "       NOM_COMUNA_GARCÍA ROVIRA  NOM_COMUNA_LA CIUDADELA  \\\n",
              "0                             0                        0   \n",
              "1                             0                        0   \n",
              "2                             0                        0   \n",
              "3                             0                        0   \n",
              "4                             1                        0   \n",
              "...                         ...                      ...   \n",
              "63303                         0                        0   \n",
              "63304                         0                        0   \n",
              "63305                         0                        0   \n",
              "63306                         0                        0   \n",
              "63307                         0                        0   \n",
              "\n",
              "       NOM_COMUNA_LA CONCORDIA  ...  MOVIL_VICTIMA_CONDUCTOR TAXI  \\\n",
              "0                            0  ...                             0   \n",
              "1                            0  ...                             0   \n",
              "2                            0  ...                             0   \n",
              "3                            0  ...                             0   \n",
              "4                            0  ...                             0   \n",
              "...                        ...  ...                           ...   \n",
              "63303                        0  ...                             0   \n",
              "63304                        0  ...                             0   \n",
              "63305                        0  ...                             0   \n",
              "63306                        0  ...                             0   \n",
              "63307                        0  ...                             0   \n",
              "\n",
              "       MOVIL_VICTIMA_CONDUCTOR VEHICULO  MOVIL_VICTIMA_NO REPORTA  \\\n",
              "0                                     0                         0   \n",
              "1                                     0                         0   \n",
              "2                                     0                         0   \n",
              "3                                     0                         0   \n",
              "4                                     0                         0   \n",
              "...                                 ...                       ...   \n",
              "63303                                 0                         0   \n",
              "63304                                 0                         0   \n",
              "63305                                 0                         0   \n",
              "63306                                 0                         0   \n",
              "63307                                 0                         0   \n",
              "\n",
              "       MOVIL_VICTIMA_PASAJERO AERONAVE  MOVIL_VICTIMA_PASAJERO BARCO  \\\n",
              "0                                    0                             0   \n",
              "1                                    0                             0   \n",
              "2                                    0                             0   \n",
              "3                                    0                             0   \n",
              "4                                    0                             0   \n",
              "...                                ...                           ...   \n",
              "63303                                0                             0   \n",
              "63304                                0                             0   \n",
              "63305                                0                             0   \n",
              "63306                                0                             0   \n",
              "63307                                0                             0   \n",
              "\n",
              "       MOVIL_VICTIMA_PASAJERO BUS  MOVIL_VICTIMA_PASAJERO METRO  \\\n",
              "0                               0                             0   \n",
              "1                               0                             0   \n",
              "2                               0                             0   \n",
              "3                               0                             0   \n",
              "4                               0                             0   \n",
              "...                           ...                           ...   \n",
              "63303                           0                             0   \n",
              "63304                           0                             0   \n",
              "63305                           0                             0   \n",
              "63306                           0                             0   \n",
              "63307                           0                             0   \n",
              "\n",
              "       MOVIL_VICTIMA_PASAJERO MOTOCICLETA  MOVIL_VICTIMA_PASAJERO TAXI  \\\n",
              "0                                       0                            0   \n",
              "1                                       0                            0   \n",
              "2                                       0                            0   \n",
              "3                                       0                            0   \n",
              "4                                       0                            0   \n",
              "...                                   ...                          ...   \n",
              "63303                                   0                            0   \n",
              "63304                                   0                            0   \n",
              "63305                                   0                            0   \n",
              "63306                                   0                            0   \n",
              "63307                                   0                            0   \n",
              "\n",
              "       MOVIL_VICTIMA_PASAJERO VEHICULO  \n",
              "0                                    0  \n",
              "1                                    0  \n",
              "2                                    0  \n",
              "3                                    0  \n",
              "4                                    0  \n",
              "...                                ...  \n",
              "63303                                0  \n",
              "63304                                0  \n",
              "63305                                0  \n",
              "63306                                0  \n",
              "63307                                0  \n",
              "\n",
              "[49117 rows x 66 columns]"
            ],
            "text/html": [
              "\n",
              "  <div id=\"df-caf9a23d-48c1-404b-8bc4-84b109ef46d8\">\n",
              "    <div class=\"colab-df-container\">\n",
              "      <div>\n",
              "<style scoped>\n",
              "    .dataframe tbody tr th:only-of-type {\n",
              "        vertical-align: middle;\n",
              "    }\n",
              "\n",
              "    .dataframe tbody tr th {\n",
              "        vertical-align: top;\n",
              "    }\n",
              "\n",
              "    .dataframe thead th {\n",
              "        text-align: right;\n",
              "    }\n",
              "</style>\n",
              "<table border=\"1\" class=\"dataframe\">\n",
              "  <thead>\n",
              "    <tr style=\"text-align: right;\">\n",
              "      <th></th>\n",
              "      <th>LATITUD</th>\n",
              "      <th>LONGITUD</th>\n",
              "      <th>ANO</th>\n",
              "      <th>NOM_COMUNA_CENTRO</th>\n",
              "      <th>NOM_COMUNA_EGIMIENTO 1</th>\n",
              "      <th>NOM_COMUNA_EGIMIENTO 2</th>\n",
              "      <th>NOM_COMUNA_EGIMIENTO 3</th>\n",
              "      <th>NOM_COMUNA_GARCÍA ROVIRA</th>\n",
              "      <th>NOM_COMUNA_LA CIUDADELA</th>\n",
              "      <th>NOM_COMUNA_LA CONCORDIA</th>\n",
              "      <th>...</th>\n",
              "      <th>MOVIL_VICTIMA_CONDUCTOR TAXI</th>\n",
              "      <th>MOVIL_VICTIMA_CONDUCTOR VEHICULO</th>\n",
              "      <th>MOVIL_VICTIMA_NO REPORTA</th>\n",
              "      <th>MOVIL_VICTIMA_PASAJERO AERONAVE</th>\n",
              "      <th>MOVIL_VICTIMA_PASAJERO BARCO</th>\n",
              "      <th>MOVIL_VICTIMA_PASAJERO BUS</th>\n",
              "      <th>MOVIL_VICTIMA_PASAJERO METRO</th>\n",
              "      <th>MOVIL_VICTIMA_PASAJERO MOTOCICLETA</th>\n",
              "      <th>MOVIL_VICTIMA_PASAJERO TAXI</th>\n",
              "      <th>MOVIL_VICTIMA_PASAJERO VEHICULO</th>\n",
              "    </tr>\n",
              "  </thead>\n",
              "  <tbody>\n",
              "    <tr>\n",
              "      <th>0</th>\n",
              "      <td>7.125632</td>\n",
              "      <td>-73.107730</td>\n",
              "      <td>2014</td>\n",
              "      <td>0</td>\n",
              "      <td>0</td>\n",
              "      <td>0</td>\n",
              "      <td>0</td>\n",
              "      <td>0</td>\n",
              "      <td>0</td>\n",
              "      <td>0</td>\n",
              "      <td>...</td>\n",
              "      <td>0</td>\n",
              "      <td>0</td>\n",
              "      <td>0</td>\n",
              "      <td>0</td>\n",
              "      <td>0</td>\n",
              "      <td>0</td>\n",
              "      <td>0</td>\n",
              "      <td>0</td>\n",
              "      <td>0</td>\n",
              "      <td>0</td>\n",
              "    </tr>\n",
              "    <tr>\n",
              "      <th>1</th>\n",
              "      <td>7.122018</td>\n",
              "      <td>-73.122284</td>\n",
              "      <td>2014</td>\n",
              "      <td>0</td>\n",
              "      <td>0</td>\n",
              "      <td>0</td>\n",
              "      <td>0</td>\n",
              "      <td>0</td>\n",
              "      <td>0</td>\n",
              "      <td>0</td>\n",
              "      <td>...</td>\n",
              "      <td>0</td>\n",
              "      <td>0</td>\n",
              "      <td>0</td>\n",
              "      <td>0</td>\n",
              "      <td>0</td>\n",
              "      <td>0</td>\n",
              "      <td>0</td>\n",
              "      <td>0</td>\n",
              "      <td>0</td>\n",
              "      <td>0</td>\n",
              "    </tr>\n",
              "    <tr>\n",
              "      <th>2</th>\n",
              "      <td>7.091039</td>\n",
              "      <td>-73.132343</td>\n",
              "      <td>2014</td>\n",
              "      <td>0</td>\n",
              "      <td>0</td>\n",
              "      <td>0</td>\n",
              "      <td>0</td>\n",
              "      <td>0</td>\n",
              "      <td>0</td>\n",
              "      <td>0</td>\n",
              "      <td>...</td>\n",
              "      <td>0</td>\n",
              "      <td>0</td>\n",
              "      <td>0</td>\n",
              "      <td>0</td>\n",
              "      <td>0</td>\n",
              "      <td>0</td>\n",
              "      <td>0</td>\n",
              "      <td>0</td>\n",
              "      <td>0</td>\n",
              "      <td>0</td>\n",
              "    </tr>\n",
              "    <tr>\n",
              "      <th>3</th>\n",
              "      <td>7.094324</td>\n",
              "      <td>-73.104601</td>\n",
              "      <td>2014</td>\n",
              "      <td>0</td>\n",
              "      <td>0</td>\n",
              "      <td>0</td>\n",
              "      <td>0</td>\n",
              "      <td>0</td>\n",
              "      <td>0</td>\n",
              "      <td>0</td>\n",
              "      <td>...</td>\n",
              "      <td>0</td>\n",
              "      <td>0</td>\n",
              "      <td>0</td>\n",
              "      <td>0</td>\n",
              "      <td>0</td>\n",
              "      <td>0</td>\n",
              "      <td>0</td>\n",
              "      <td>0</td>\n",
              "      <td>0</td>\n",
              "      <td>0</td>\n",
              "    </tr>\n",
              "    <tr>\n",
              "      <th>4</th>\n",
              "      <td>7.111094</td>\n",
              "      <td>-73.140048</td>\n",
              "      <td>2014</td>\n",
              "      <td>0</td>\n",
              "      <td>0</td>\n",
              "      <td>0</td>\n",
              "      <td>0</td>\n",
              "      <td>1</td>\n",
              "      <td>0</td>\n",
              "      <td>0</td>\n",
              "      <td>...</td>\n",
              "      <td>0</td>\n",
              "      <td>0</td>\n",
              "      <td>0</td>\n",
              "      <td>0</td>\n",
              "      <td>0</td>\n",
              "      <td>0</td>\n",
              "      <td>0</td>\n",
              "      <td>0</td>\n",
              "      <td>0</td>\n",
              "      <td>0</td>\n",
              "    </tr>\n",
              "    <tr>\n",
              "      <th>...</th>\n",
              "      <td>...</td>\n",
              "      <td>...</td>\n",
              "      <td>...</td>\n",
              "      <td>...</td>\n",
              "      <td>...</td>\n",
              "      <td>...</td>\n",
              "      <td>...</td>\n",
              "      <td>...</td>\n",
              "      <td>...</td>\n",
              "      <td>...</td>\n",
              "      <td>...</td>\n",
              "      <td>...</td>\n",
              "      <td>...</td>\n",
              "      <td>...</td>\n",
              "      <td>...</td>\n",
              "      <td>...</td>\n",
              "      <td>...</td>\n",
              "      <td>...</td>\n",
              "      <td>...</td>\n",
              "      <td>...</td>\n",
              "      <td>...</td>\n",
              "    </tr>\n",
              "    <tr>\n",
              "      <th>63303</th>\n",
              "      <td>7.090710</td>\n",
              "      <td>-73.130972</td>\n",
              "      <td>2019</td>\n",
              "      <td>0</td>\n",
              "      <td>0</td>\n",
              "      <td>0</td>\n",
              "      <td>0</td>\n",
              "      <td>0</td>\n",
              "      <td>0</td>\n",
              "      <td>0</td>\n",
              "      <td>...</td>\n",
              "      <td>0</td>\n",
              "      <td>0</td>\n",
              "      <td>0</td>\n",
              "      <td>0</td>\n",
              "      <td>0</td>\n",
              "      <td>0</td>\n",
              "      <td>0</td>\n",
              "      <td>0</td>\n",
              "      <td>0</td>\n",
              "      <td>0</td>\n",
              "    </tr>\n",
              "    <tr>\n",
              "      <th>63304</th>\n",
              "      <td>7.133665</td>\n",
              "      <td>-73.136067</td>\n",
              "      <td>2019</td>\n",
              "      <td>0</td>\n",
              "      <td>0</td>\n",
              "      <td>0</td>\n",
              "      <td>0</td>\n",
              "      <td>0</td>\n",
              "      <td>0</td>\n",
              "      <td>0</td>\n",
              "      <td>...</td>\n",
              "      <td>0</td>\n",
              "      <td>0</td>\n",
              "      <td>0</td>\n",
              "      <td>0</td>\n",
              "      <td>0</td>\n",
              "      <td>0</td>\n",
              "      <td>0</td>\n",
              "      <td>0</td>\n",
              "      <td>0</td>\n",
              "      <td>0</td>\n",
              "    </tr>\n",
              "    <tr>\n",
              "      <th>63305</th>\n",
              "      <td>7.098490</td>\n",
              "      <td>-73.110478</td>\n",
              "      <td>2019</td>\n",
              "      <td>0</td>\n",
              "      <td>0</td>\n",
              "      <td>0</td>\n",
              "      <td>0</td>\n",
              "      <td>0</td>\n",
              "      <td>0</td>\n",
              "      <td>0</td>\n",
              "      <td>...</td>\n",
              "      <td>0</td>\n",
              "      <td>0</td>\n",
              "      <td>0</td>\n",
              "      <td>0</td>\n",
              "      <td>0</td>\n",
              "      <td>0</td>\n",
              "      <td>0</td>\n",
              "      <td>0</td>\n",
              "      <td>0</td>\n",
              "      <td>0</td>\n",
              "    </tr>\n",
              "    <tr>\n",
              "      <th>63306</th>\n",
              "      <td>7.132249</td>\n",
              "      <td>-73.119572</td>\n",
              "      <td>2019</td>\n",
              "      <td>0</td>\n",
              "      <td>0</td>\n",
              "      <td>0</td>\n",
              "      <td>0</td>\n",
              "      <td>0</td>\n",
              "      <td>0</td>\n",
              "      <td>0</td>\n",
              "      <td>...</td>\n",
              "      <td>0</td>\n",
              "      <td>0</td>\n",
              "      <td>0</td>\n",
              "      <td>0</td>\n",
              "      <td>0</td>\n",
              "      <td>0</td>\n",
              "      <td>0</td>\n",
              "      <td>0</td>\n",
              "      <td>0</td>\n",
              "      <td>0</td>\n",
              "    </tr>\n",
              "    <tr>\n",
              "      <th>63307</th>\n",
              "      <td>7.099585</td>\n",
              "      <td>-73.129035</td>\n",
              "      <td>2019</td>\n",
              "      <td>0</td>\n",
              "      <td>0</td>\n",
              "      <td>0</td>\n",
              "      <td>0</td>\n",
              "      <td>0</td>\n",
              "      <td>0</td>\n",
              "      <td>0</td>\n",
              "      <td>...</td>\n",
              "      <td>0</td>\n",
              "      <td>0</td>\n",
              "      <td>0</td>\n",
              "      <td>0</td>\n",
              "      <td>0</td>\n",
              "      <td>0</td>\n",
              "      <td>0</td>\n",
              "      <td>0</td>\n",
              "      <td>0</td>\n",
              "      <td>0</td>\n",
              "    </tr>\n",
              "  </tbody>\n",
              "</table>\n",
              "<p>49117 rows × 66 columns</p>\n",
              "</div>\n",
              "      <button class=\"colab-df-convert\" onclick=\"convertToInteractive('df-caf9a23d-48c1-404b-8bc4-84b109ef46d8')\"\n",
              "              title=\"Convert this dataframe to an interactive table.\"\n",
              "              style=\"display:none;\">\n",
              "        \n",
              "  <svg xmlns=\"http://www.w3.org/2000/svg\" height=\"24px\"viewBox=\"0 0 24 24\"\n",
              "       width=\"24px\">\n",
              "    <path d=\"M0 0h24v24H0V0z\" fill=\"none\"/>\n",
              "    <path d=\"M18.56 5.44l.94 2.06.94-2.06 2.06-.94-2.06-.94-.94-2.06-.94 2.06-2.06.94zm-11 1L8.5 8.5l.94-2.06 2.06-.94-2.06-.94L8.5 2.5l-.94 2.06-2.06.94zm10 10l.94 2.06.94-2.06 2.06-.94-2.06-.94-.94-2.06-.94 2.06-2.06.94z\"/><path d=\"M17.41 7.96l-1.37-1.37c-.4-.4-.92-.59-1.43-.59-.52 0-1.04.2-1.43.59L10.3 9.45l-7.72 7.72c-.78.78-.78 2.05 0 2.83L4 21.41c.39.39.9.59 1.41.59.51 0 1.02-.2 1.41-.59l7.78-7.78 2.81-2.81c.8-.78.8-2.07 0-2.86zM5.41 20L4 18.59l7.72-7.72 1.47 1.35L5.41 20z\"/>\n",
              "  </svg>\n",
              "      </button>\n",
              "      \n",
              "  <style>\n",
              "    .colab-df-container {\n",
              "      display:flex;\n",
              "      flex-wrap:wrap;\n",
              "      gap: 12px;\n",
              "    }\n",
              "\n",
              "    .colab-df-convert {\n",
              "      background-color: #E8F0FE;\n",
              "      border: none;\n",
              "      border-radius: 50%;\n",
              "      cursor: pointer;\n",
              "      display: none;\n",
              "      fill: #1967D2;\n",
              "      height: 32px;\n",
              "      padding: 0 0 0 0;\n",
              "      width: 32px;\n",
              "    }\n",
              "\n",
              "    .colab-df-convert:hover {\n",
              "      background-color: #E2EBFA;\n",
              "      box-shadow: 0px 1px 2px rgba(60, 64, 67, 0.3), 0px 1px 3px 1px rgba(60, 64, 67, 0.15);\n",
              "      fill: #174EA6;\n",
              "    }\n",
              "\n",
              "    [theme=dark] .colab-df-convert {\n",
              "      background-color: #3B4455;\n",
              "      fill: #D2E3FC;\n",
              "    }\n",
              "\n",
              "    [theme=dark] .colab-df-convert:hover {\n",
              "      background-color: #434B5C;\n",
              "      box-shadow: 0px 1px 3px 1px rgba(0, 0, 0, 0.15);\n",
              "      filter: drop-shadow(0px 1px 2px rgba(0, 0, 0, 0.3));\n",
              "      fill: #FFFFFF;\n",
              "    }\n",
              "  </style>\n",
              "\n",
              "      <script>\n",
              "        const buttonEl =\n",
              "          document.querySelector('#df-caf9a23d-48c1-404b-8bc4-84b109ef46d8 button.colab-df-convert');\n",
              "        buttonEl.style.display =\n",
              "          google.colab.kernel.accessAllowed ? 'block' : 'none';\n",
              "\n",
              "        async function convertToInteractive(key) {\n",
              "          const element = document.querySelector('#df-caf9a23d-48c1-404b-8bc4-84b109ef46d8');\n",
              "          const dataTable =\n",
              "            await google.colab.kernel.invokeFunction('convertToInteractive',\n",
              "                                                     [key], {});\n",
              "          if (!dataTable) return;\n",
              "\n",
              "          const docLinkHtml = 'Like what you see? Visit the ' +\n",
              "            '<a target=\"_blank\" href=https://colab.research.google.com/notebooks/data_table.ipynb>data table notebook</a>'\n",
              "            + ' to learn more about interactive tables.';\n",
              "          element.innerHTML = '';\n",
              "          dataTable['output_type'] = 'display_data';\n",
              "          await google.colab.output.renderOutput(dataTable, element);\n",
              "          const docLink = document.createElement('div');\n",
              "          docLink.innerHTML = docLinkHtml;\n",
              "          element.appendChild(docLink);\n",
              "        }\n",
              "      </script>\n",
              "    </div>\n",
              "  </div>\n",
              "  "
            ]
          },
          "metadata": {},
          "execution_count": 14
        }
      ]
    },
    {
      "cell_type": "code",
      "source": [
        "y = df['CONDUCTA']\n",
        "y"
      ],
      "metadata": {
        "colab": {
          "base_uri": "https://localhost:8080/"
        },
        "id": "EkBeV2bS8LOe",
        "outputId": "692e7207-dcbc-4343-dbaa-a2a3167bd439"
      },
      "execution_count": 15,
      "outputs": [
        {
          "output_type": "execute_result",
          "data": {
            "text/plain": [
              "0                     HURTO A PERSONAS\n",
              "1        HURTO A ENTIDADES COMERCIALES\n",
              "2        HURTO A ENTIDADES COMERCIALES\n",
              "3                     HURTO A PERSONAS\n",
              "4                 HURTO A MOTOCICLETAS\n",
              "                     ...              \n",
              "63303              LESIONES PERSONALES\n",
              "63304              LESIONES PERSONALES\n",
              "63305              LESIONES PERSONALES\n",
              "63306              LESIONES PERSONALES\n",
              "63307              LESIONES PERSONALES\n",
              "Name: CONDUCTA, Length: 49117, dtype: object"
            ]
          },
          "metadata": {},
          "execution_count": 15
        }
      ]
    },
    {
      "cell_type": "code",
      "source": [
        "y.unique()"
      ],
      "metadata": {
        "colab": {
          "base_uri": "https://localhost:8080/"
        },
        "id": "sE1hQrtjIenH",
        "outputId": "62387ae5-1be1-4c3e-a772-67230d81e4af"
      },
      "execution_count": 48,
      "outputs": [
        {
          "output_type": "execute_result",
          "data": {
            "text/plain": [
              "array(['HURTO A PERSONAS', 'HURTO A ENTIDADES COMERCIALES',\n",
              "       'HURTO A MOTOCICLETAS', 'HURTO A RESIDENCIAS',\n",
              "       'HURTO A AUTOMOTORES', 'HURTO A ABIGEATO',\n",
              "       'HURTO A ENTIDADES FINANCIERAS', 'HURTO A PIRATERÍA TERRESTRE',\n",
              "       'HOMICIDIO', 'FEMINICIDIO', 'LESIONES PERSONALES'], dtype=object)"
            ]
          },
          "metadata": {},
          "execution_count": 48
        }
      ]
    },
    {
      "cell_type": "markdown",
      "source": [
        "## Clasificación de los delitos"
      ],
      "metadata": {
        "id": "5iBOR42cAs5x"
      }
    },
    {
      "cell_type": "code",
      "source": [
        "from sklearn.metrics import *\n",
        "from sklearn.model_selection import (\n",
        "    GridSearchCV,\n",
        "    RandomizedSearchCV\n",
        ")\n",
        "from sklearn.model_selection import cross_val_score\n",
        "\n",
        "from sklearn.ensemble import RandomForestClassifier\n",
        "from sklearn.model_selection import train_test_split"
      ],
      "metadata": {
        "id": "si1VOKXm78Dl"
      },
      "execution_count": 16,
      "outputs": []
    },
    {
      "cell_type": "code",
      "source": [
        "X_train, X_test,y_train, y_test = train_test_split(X,y, test_size=0.25)"
      ],
      "metadata": {
        "id": "BRVVTm_L77f3"
      },
      "execution_count": 17,
      "outputs": []
    },
    {
      "cell_type": "code",
      "source": [
        "predictor = RandomForestClassifier(criterion='gini', n_estimators=200).fit(X_train,y_train)"
      ],
      "metadata": {
        "id": "1HgPaNjx8U-m"
      },
      "execution_count": 28,
      "outputs": []
    },
    {
      "cell_type": "code",
      "source": [
        "prediccion = predictor.predict(X_test)"
      ],
      "metadata": {
        "id": "IlfrcfEkAyzT"
      },
      "execution_count": 29,
      "outputs": []
    },
    {
      "cell_type": "code",
      "source": [
        "accuracy_score(y_test, prediccion)"
      ],
      "metadata": {
        "colab": {
          "base_uri": "https://localhost:8080/"
        },
        "id": "1smd8xERGaui",
        "outputId": "d740e197-341f-478d-e418-f469a3b07f15"
      },
      "execution_count": 30,
      "outputs": [
        {
          "output_type": "execute_result",
          "data": {
            "text/plain": [
              "0.7063517915309446"
            ]
          },
          "metadata": {},
          "execution_count": 30
        }
      ]
    },
    {
      "cell_type": "code",
      "source": [
        "recall_score(y_test, prediccion, average='micro')"
      ],
      "metadata": {
        "colab": {
          "base_uri": "https://localhost:8080/"
        },
        "id": "_Nwe1De4GkjM",
        "outputId": "50532305-9942-4288-87c6-a53dd1bd2675"
      },
      "execution_count": 34,
      "outputs": [
        {
          "output_type": "execute_result",
          "data": {
            "text/plain": [
              "0.7063517915309446"
            ]
          },
          "metadata": {},
          "execution_count": 34
        }
      ]
    },
    {
      "cell_type": "code",
      "source": [
        "precision_score(y_test, prediccion, average='micro')"
      ],
      "metadata": {
        "colab": {
          "base_uri": "https://localhost:8080/"
        },
        "id": "6aN275ZIHL91",
        "outputId": "9fa82fc9-59ba-4dda-8b35-8537c1a7c0b2"
      },
      "execution_count": 32,
      "outputs": [
        {
          "output_type": "execute_result",
          "data": {
            "text/plain": [
              "0.7063517915309446"
            ]
          },
          "metadata": {},
          "execution_count": 32
        }
      ]
    },
    {
      "cell_type": "code",
      "source": [
        "from sklearn.metrics import confusion_matrix\n",
        "import seaborn as sns\n",
        "import matplotlib.pyplot as plt\n",
        "\n",
        "cm = confusion_matrix(y_test, predictor.predict(X_test))\n",
        "\n",
        "group_counts = [\"{0:0.0f}\".format(value) for value in\n",
        "                cm.flatten()]\n",
        "group_percentages = [\"{0:.2%}\".format(value) for value in\n",
        "                     cm.flatten()/np.sum(cm)]\n",
        "\n",
        "labels = [f'{v1}\\n{v2}' for v1, v2 in zip(group_counts,group_percentages)]\n",
        "labels = np.asarray(labels).reshape(10,10)"
      ],
      "metadata": {
        "id": "lsYf93sKFzXN"
      },
      "execution_count": 46,
      "outputs": []
    },
    {
      "cell_type": "code",
      "source": [
        "plt.figure(figsize=(12,12))\n",
        "sns.heatmap(cm, annot=labels,fmt='', cmap='Blues')"
      ],
      "metadata": {
        "colab": {
          "base_uri": "https://localhost:8080/",
          "height": 718
        },
        "id": "oYRa5Pu4HhYF",
        "outputId": "0cf2ee14-75ad-49fe-a07f-92738d3d6906"
      },
      "execution_count": 47,
      "outputs": [
        {
          "output_type": "execute_result",
          "data": {
            "text/plain": [
              "<matplotlib.axes._subplots.AxesSubplot at 0x7fbafe1bc590>"
            ]
          },
          "metadata": {},
          "execution_count": 47
        },
        {
          "output_type": "display_data",
          "data": {
            "text/plain": [
              "<Figure size 864x864 with 2 Axes>"
            ],
            "image/png": "[encoded data removed]"
          },
          "metadata": {
            "needs_background": "light"
          }
        }
      ]
    },
    {
      "cell_type": "code",
      "source": [
        "confusion_matrix(y_test, predictor.predict(X_test), labels=['HURTO A PERSONAS', 'LESIONES PERSONALES'])"
      ],
      "metadata": {
        "colab": {
          "base_uri": "https://localhost:8080/"
        },
        "id": "k-P38I7aIuDc",
        "outputId": "fd3fbbde-b73b-4e01-ad2f-73eddeffae7c"
      },
      "execution_count": 51,
      "outputs": [
        {
          "output_type": "execute_result",
          "data": {
            "text/plain": [
              "array([[5587,  966],\n",
              "       [1243, 1643]])"
            ]
          },
          "metadata": {},
          "execution_count": 51
        }
      ]
    },
    {
      "cell_type": "markdown",
      "source": [
        "Se evidencia que el modelo tiene dificultad para predecir la etiqueta nueva y la siete, los cuales representan hurtos a personas y lesiones personales."
      ],
      "metadata": {
        "id": "vpLDPKKOIME0"
      }
    },
    {
      "cell_type": "code",
      "source": [
        "from sklearn import tree\n",
        "from sklearn import svm\n",
        "from sklearn.linear_model import SGDClassifier\n",
        "from sklearn.ensemble import RandomForestClassifier\n",
        "from sklearn.linear_model import LogisticRegression\n",
        "from sklearn.neighbors import KNeighborsClassifier\n",
        "from sklearn.ensemble import BaggingClassifier\n",
        "from sklearn.ensemble import GradientBoostingClassifier\n",
        "\n",
        "#Quita las warnings\n",
        "import warnings\n",
        "warnings.simplefilter(\"ignore\")"
      ],
      "metadata": {
        "id": "oU4bqZ98H0dT"
      },
      "execution_count": 36,
      "outputs": []
    },
    {
      "cell_type": "code",
      "source": [
        "estimadores = {\n",
        "    'Decision Tree': tree.DecisionTreeClassifier(criterion='entropy'),\n",
        "    'SVM': svm.SVC(),\n",
        "    'SGD': SGDClassifier(loss='log', penalty='l2', max_iter=8),\n",
        "    'KNN': KNeighborsClassifier(n_neighbors=11),\n",
        "    'Logistic Regression': LogisticRegression(),\n",
        "    'Gradiend Boosting':GradientBoostingClassifier(n_estimators=200)\n",
        "}"
      ],
      "metadata": {
        "id": "hT5D2FnaH4Zm"
      },
      "execution_count": 37,
      "outputs": []
    },
    {
      "cell_type": "code",
      "source": [
        "for name, estimador in estimadores.items():\n",
        "    estimador.fit(X_train,y_train)\n",
        "    predictions = estimador.predict(X_test)\n",
        "    print('*'*20)\n",
        "    print(name)\n",
        "    print('Accuracy Score ', accuracy_score(y_test, predictions) )"
      ],
      "metadata": {
        "colab": {
          "base_uri": "https://localhost:8080/"
        },
        "id": "BFocmLHYH6dG",
        "outputId": "f4c04bba-2ef3-4572-8b65-9afcb79c672e"
      },
      "execution_count": 38,
      "outputs": [
        {
          "output_type": "stream",
          "name": "stdout",
          "text": [
            "********************\n",
            "Decision Tree\n",
            "Accuracy Score  0.6263843648208469\n",
            "********************\n",
            "SVM\n",
            "Accuracy Score  0.5431596091205212\n",
            "********************\n",
            "SGD\n",
            "Accuracy Score  0.5431596091205212\n",
            "********************\n",
            "KNN\n",
            "Accuracy Score  0.6456026058631922\n",
            "********************\n",
            "Logistic Regression\n",
            "Accuracy Score  0.5431596091205212\n",
            "********************\n",
            "Gradiend Boosting\n",
            "Accuracy Score  0.6973127035830619\n"
          ]
        }
      ]
    },
    {
      "cell_type": "code",
      "source": [
        "concordia = pd.concat([X,y], axis=1)\n",
        "concordia = concordia[(concordia['NOM_COMUNA_LA CONCORDIA'] == 1) & (concordia['ANO'] < 2020)]"
      ],
      "metadata": {
        "id": "aFvucP6AdGA1"
      },
      "execution_count": null,
      "outputs": []
    },
    {
      "cell_type": "code",
      "source": [
        "concordia_y = concordia.iloc[:,[-1]]\n",
        "concordia_x = concordia.iloc[:,:-1]\n",
        "X_train, X_test,y_train, y_test = train_test_split(concordia_x,concordia_y, test_size=0.35)\n",
        "predictor = RandomForestClassifier(criterion='entropy', n_estimators=300).fit(X_train,y_train)\n",
        "cross_val_score(predictor, X_train, y_train, cv=2)"
      ],
      "metadata": {
        "id": "THFIKKwXdG4a"
      },
      "execution_count": null,
      "outputs": []
    },
    {
      "cell_type": "markdown",
      "source": [
        "## Series de Tiempo"
      ],
      "metadata": {
        "id": "4w-a-0ptK4hv"
      }
    },
    {
      "cell_type": "code",
      "source": [
        "df['ones'] = 1"
      ],
      "metadata": {
        "id": "FAuqW9hVLaG4"
      },
      "execution_count": null,
      "outputs": []
    },
    {
      "cell_type": "code",
      "source": [
        "df_time = df.groupby(['FECHA'])['ones'].sum()"
      ],
      "metadata": {
        "id": "vTUNJFHJKbx0"
      },
      "execution_count": null,
      "outputs": []
    },
    {
      "cell_type": "code",
      "source": [
        "import matplotlib.pyplot as plt"
      ],
      "metadata": {
        "id": "AM3wBw-lP59v"
      },
      "execution_count": null,
      "outputs": []
    },
    {
      "cell_type": "code",
      "source": [
        "plt.figure(figsize=(18,9))\n",
        "df_time.rolling(window=15).sum().plot()"
      ],
      "metadata": {
        "colab": {
          "base_uri": "https://localhost:8080/",
          "height": 532
        },
        "id": "agX2sV94Mmdb",
        "outputId": "1178880c-e7ec-4fda-d47f-a65b53b1a3b4"
      },
      "execution_count": null,
      "outputs": [
        {
          "output_type": "execute_result",
          "data": {
            "text/plain": [
              "<matplotlib.axes._subplots.AxesSubplot at 0x7f1c50c4f4d0>"
            ]
          },
          "metadata": {},
          "execution_count": 99
        },
        {
          "output_type": "display_data",
          "data": {
            "image/png": "[encoded data removed]",
            "text/plain": [
              "<Figure size 1296x648 with 1 Axes>"
            ]
          },
          "metadata": {
            "needs_background": "light"
          }
        }
      ]
    },
    {
      "cell_type": "code",
      "source": [
        "df_concordia = df[df['NOM_COMUNA'] == 'LA CONCORDIA']\n",
        "df_time_concordia = df_concordia.groupby(['FECHA'])['ones'].sum()\n",
        "df_time_concordia.rolling(window=7).sum().plot()"
      ],
      "metadata": {
        "colab": {
          "base_uri": "https://localhost:8080/",
          "height": 287
        },
        "id": "ksexSUBqUAZE",
        "outputId": "8d44303f-d158-4228-a0d7-899acc68941e"
      },
      "execution_count": null,
      "outputs": [
        {
          "output_type": "execute_result",
          "data": {
            "text/plain": [
              "<matplotlib.axes._subplots.AxesSubplot at 0x7fb8fd6dec50>"
            ]
          },
          "metadata": {},
          "execution_count": 53
        },
        {
          "output_type": "display_data",
          "data": {
            "image/png": "[encoded data removed]",
            "text/plain": [
              "<Figure size 432x288 with 1 Axes>"
            ]
          },
          "metadata": {
            "needs_background": "light"
          }
        }
      ]
    },
    {
      "cell_type": "code",
      "source": [
        "df_time_oriental = df[df['NOM_COMUNA'] == 'ORIENTAL']\n",
        "df_time_oriental = df_time_oriental.groupby(['FECHA'])['ones'].sum()\n",
        "df_time_oriental.rolling(window=30).sum().plot()"
      ],
      "metadata": {
        "colab": {
          "base_uri": "https://localhost:8080/",
          "height": 287
        },
        "id": "jbbK2P3lU1qC",
        "outputId": "610fcde9-be70-45f7-c317-26555e8f8cd9"
      },
      "execution_count": null,
      "outputs": [
        {
          "output_type": "execute_result",
          "data": {
            "text/plain": [
              "<matplotlib.axes._subplots.AxesSubplot at 0x7fb8fd80e790>"
            ]
          },
          "metadata": {},
          "execution_count": 54
        },
        {
          "output_type": "display_data",
          "data": {
            "image/png": "[encoded data removed]",
            "text/plain": [
              "<Figure size 432x288 with 1 Axes>"
            ]
          },
          "metadata": {
            "needs_background": "light"
          }
        }
      ]
    },
    {
      "cell_type": "code",
      "source": [
        "! pip install pmdarima"
      ],
      "metadata": {
        "colab": {
          "base_uri": "https://localhost:8080/"
        },
        "id": "wXXoU0_1QF6q",
        "outputId": "824837e5-5dd2-4b62-fcc1-4f7f98caaa47"
      },
      "execution_count": null,
      "outputs": [
        {
          "output_type": "stream",
          "name": "stdout",
          "text": [
            "Collecting pmdarima\n",
            "  Downloading pmdarima-1.8.5-cp37-cp37m-manylinux_2_17_x86_64.manylinux2014_x86_64.manylinux_2_24_x86_64.whl (1.4 MB)\n",
            "\u001b[?25l\r\u001b[K     |▎                               | 10 kB 19.9 MB/s eta 0:00:01\r\u001b[K     |▌                               | 20 kB 26.8 MB/s eta 0:00:01\r\u001b[K     |▊                               | 30 kB 21.9 MB/s eta 0:00:01\r\u001b[K     |█                               | 40 kB 17.2 MB/s eta 0:00:01\r\u001b[K     |█▏                              | 51 kB 7.9 MB/s eta 0:00:01\r\u001b[K     |█▍                              | 61 kB 9.2 MB/s eta 0:00:01\r\u001b[K     |█▋                              | 71 kB 9.1 MB/s eta 0:00:01\r\u001b[K     |██                              | 81 kB 9.3 MB/s eta 0:00:01\r\u001b[K     |██▏                             | 92 kB 10.2 MB/s eta 0:00:01\r\u001b[K     |██▍                             | 102 kB 8.5 MB/s eta 0:00:01\r\u001b[K     |██▋                             | 112 kB 8.5 MB/s eta 0:00:01\r\u001b[K     |██▉                             | 122 kB 8.5 MB/s eta 0:00:01\r\u001b[K     |███                             | 133 kB 8.5 MB/s eta 0:00:01\r\u001b[K     |███▎                            | 143 kB 8.5 MB/s eta 0:00:01\r\u001b[K     |███▌                            | 153 kB 8.5 MB/s eta 0:00:01\r\u001b[K     |███▉                            | 163 kB 8.5 MB/s eta 0:00:01\r\u001b[K     |████                            | 174 kB 8.5 MB/s eta 0:00:01\r\u001b[K     |████▎                           | 184 kB 8.5 MB/s eta 0:00:01\r\u001b[K     |████▌                           | 194 kB 8.5 MB/s eta 0:00:01\r\u001b[K     |████▊                           | 204 kB 8.5 MB/s eta 0:00:01\r\u001b[K     |█████                           | 215 kB 8.5 MB/s eta 0:00:01\r\u001b[K     |█████▏                          | 225 kB 8.5 MB/s eta 0:00:01\r\u001b[K     |█████▍                          | 235 kB 8.5 MB/s eta 0:00:01\r\u001b[K     |█████▊                          | 245 kB 8.5 MB/s eta 0:00:01\r\u001b[K     |██████                          | 256 kB 8.5 MB/s eta 0:00:01\r\u001b[K     |██████▏                         | 266 kB 8.5 MB/s eta 0:00:01\r\u001b[K     |██████▍                         | 276 kB 8.5 MB/s eta 0:00:01\r\u001b[K     |██████▋                         | 286 kB 8.5 MB/s eta 0:00:01\r\u001b[K     |██████▉                         | 296 kB 8.5 MB/s eta 0:00:01\r\u001b[K     |███████                         | 307 kB 8.5 MB/s eta 0:00:01\r\u001b[K     |███████▎                        | 317 kB 8.5 MB/s eta 0:00:01\r\u001b[K     |███████▋                        | 327 kB 8.5 MB/s eta 0:00:01\r\u001b[K     |███████▉                        | 337 kB 8.5 MB/s eta 0:00:01\r\u001b[K     |████████                        | 348 kB 8.5 MB/s eta 0:00:01\r\u001b[K     |████████▎                       | 358 kB 8.5 MB/s eta 0:00:01\r\u001b[K     |████████▌                       | 368 kB 8.5 MB/s eta 0:00:01\r\u001b[K     |████████▊                       | 378 kB 8.5 MB/s eta 0:00:01\r\u001b[K     |█████████                       | 389 kB 8.5 MB/s eta 0:00:01\r\u001b[K     |█████████▎                      | 399 kB 8.5 MB/s eta 0:00:01\r\u001b[K     |█████████▌                      | 409 kB 8.5 MB/s eta 0:00:01\r\u001b[K     |█████████▊                      | 419 kB 8.5 MB/s eta 0:00:01\r\u001b[K     |██████████                      | 430 kB 8.5 MB/s eta 0:00:01\r\u001b[K     |██████████▏                     | 440 kB 8.5 MB/s eta 0:00:01\r\u001b[K     |██████████▍                     | 450 kB 8.5 MB/s eta 0:00:01\r\u001b[K     |██████████▋                     | 460 kB 8.5 MB/s eta 0:00:01\r\u001b[K     |██████████▉                     | 471 kB 8.5 MB/s eta 0:00:01\r\u001b[K     |███████████▏                    | 481 kB 8.5 MB/s eta 0:00:01\r\u001b[K     |███████████▍                    | 491 kB 8.5 MB/s eta 0:00:01\r\u001b[K     |███████████▋                    | 501 kB 8.5 MB/s eta 0:00:01\r\u001b[K     |███████████▉                    | 512 kB 8.5 MB/s eta 0:00:01\r\u001b[K     |████████████                    | 522 kB 8.5 MB/s eta 0:00:01\r\u001b[K     |████████████▎                   | 532 kB 8.5 MB/s eta 0:00:01\r\u001b[K     |████████████▌                   | 542 kB 8.5 MB/s eta 0:00:01\r\u001b[K     |████████████▊                   | 552 kB 8.5 MB/s eta 0:00:01\r\u001b[K     |█████████████                   | 563 kB 8.5 MB/s eta 0:00:01\r\u001b[K     |█████████████▎                  | 573 kB 8.5 MB/s eta 0:00:01\r\u001b[K     |█████████████▌                  | 583 kB 8.5 MB/s eta 0:00:01\r\u001b[K     |█████████████▊                  | 593 kB 8.5 MB/s eta 0:00:01\r\u001b[K     |██████████████                  | 604 kB 8.5 MB/s eta 0:00:01\r\u001b[K     |██████████████▏                 | 614 kB 8.5 MB/s eta 0:00:01\r\u001b[K     |██████████████▍                 | 624 kB 8.5 MB/s eta 0:00:01\r\u001b[K     |██████████████▋                 | 634 kB 8.5 MB/s eta 0:00:01\r\u001b[K     |███████████████                 | 645 kB 8.5 MB/s eta 0:00:01\r\u001b[K     |███████████████▏                | 655 kB 8.5 MB/s eta 0:00:01\r\u001b[K     |███████████████▍                | 665 kB 8.5 MB/s eta 0:00:01\r\u001b[K     |███████████████▋                | 675 kB 8.5 MB/s eta 0:00:01\r\u001b[K     |███████████████▉                | 686 kB 8.5 MB/s eta 0:00:01\r\u001b[K     |████████████████                | 696 kB 8.5 MB/s eta 0:00:01\r\u001b[K     |████████████████▎               | 706 kB 8.5 MB/s eta 0:00:01\r\u001b[K     |████████████████▋               | 716 kB 8.5 MB/s eta 0:00:01\r\u001b[K     |████████████████▉               | 727 kB 8.5 MB/s eta 0:00:01\r\u001b[K     |█████████████████               | 737 kB 8.5 MB/s eta 0:00:01\r\u001b[K     |█████████████████▎              | 747 kB 8.5 MB/s eta 0:00:01\r\u001b[K     |█████████████████▌              | 757 kB 8.5 MB/s eta 0:00:01\r\u001b[K     |█████████████████▊              | 768 kB 8.5 MB/s eta 0:00:01\r\u001b[K     |██████████████████              | 778 kB 8.5 MB/s eta 0:00:01\r\u001b[K     |██████████████████▏             | 788 kB 8.5 MB/s eta 0:00:01\r\u001b[K     |██████████████████▌             | 798 kB 8.5 MB/s eta 0:00:01\r\u001b[K     |██████████████████▊             | 808 kB 8.5 MB/s eta 0:00:01\r\u001b[K     |███████████████████             | 819 kB 8.5 MB/s eta 0:00:01\r\u001b[K     |███████████████████▏            | 829 kB 8.5 MB/s eta 0:00:01\r\u001b[K     |███████████████████▍            | 839 kB 8.5 MB/s eta 0:00:01\r\u001b[K     |███████████████████▋            | 849 kB 8.5 MB/s eta 0:00:01\r\u001b[K     |███████████████████▉            | 860 kB 8.5 MB/s eta 0:00:01\r\u001b[K     |████████████████████            | 870 kB 8.5 MB/s eta 0:00:01\r\u001b[K     |████████████████████▍           | 880 kB 8.5 MB/s eta 0:00:01\r\u001b[K     |████████████████████▋           | 890 kB 8.5 MB/s eta 0:00:01\r\u001b[K     |████████████████████▉           | 901 kB 8.5 MB/s eta 0:00:01\r\u001b[K     |█████████████████████           | 911 kB 8.5 MB/s eta 0:00:01\r\u001b[K     |█████████████████████▎          | 921 kB 8.5 MB/s eta 0:00:01\r\u001b[K     |█████████████████████▌          | 931 kB 8.5 MB/s eta 0:00:01\r\u001b[K     |█████████████████████▊          | 942 kB 8.5 MB/s eta 0:00:01\r\u001b[K     |██████████████████████          | 952 kB 8.5 MB/s eta 0:00:01\r\u001b[K     |██████████████████████▎         | 962 kB 8.5 MB/s eta 0:00:01\r\u001b[K     |██████████████████████▌         | 972 kB 8.5 MB/s eta 0:00:01\r\u001b[K     |██████████████████████▊         | 983 kB 8.5 MB/s eta 0:00:01\r\u001b[K     |███████████████████████         | 993 kB 8.5 MB/s eta 0:00:01\r\u001b[K     |███████████████████████▏        | 1.0 MB 8.5 MB/s eta 0:00:01\r\u001b[K     |███████████████████████▍        | 1.0 MB 8.5 MB/s eta 0:00:01\r\u001b[K     |███████████████████████▋        | 1.0 MB 8.5 MB/s eta 0:00:01\r\u001b[K     |████████████████████████        | 1.0 MB 8.5 MB/s eta 0:00:01\r\u001b[K     |████████████████████████▏       | 1.0 MB 8.5 MB/s eta 0:00:01\r\u001b[K     |████████████████████████▍       | 1.1 MB 8.5 MB/s eta 0:00:01\r\u001b[K     |████████████████████████▋       | 1.1 MB 8.5 MB/s eta 0:00:01\r\u001b[K     |████████████████████████▉       | 1.1 MB 8.5 MB/s eta 0:00:01\r\u001b[K     |█████████████████████████       | 1.1 MB 8.5 MB/s eta 0:00:01\r\u001b[K     |█████████████████████████▎      | 1.1 MB 8.5 MB/s eta 0:00:01\r\u001b[K     |█████████████████████████▌      | 1.1 MB 8.5 MB/s eta 0:00:01\r\u001b[K     |█████████████████████████▉      | 1.1 MB 8.5 MB/s eta 0:00:01\r\u001b[K     |██████████████████████████      | 1.1 MB 8.5 MB/s eta 0:00:01\r\u001b[K     |██████████████████████████▎     | 1.1 MB 8.5 MB/s eta 0:00:01\r\u001b[K     |██████████████████████████▌     | 1.1 MB 8.5 MB/s eta 0:00:01\r\u001b[K     |██████████████████████████▊     | 1.2 MB 8.5 MB/s eta 0:00:01\r\u001b[K     |███████████████████████████     | 1.2 MB 8.5 MB/s eta 0:00:01\r\u001b[K     |███████████████████████████▏    | 1.2 MB 8.5 MB/s eta 0:00:01\r\u001b[K     |███████████████████████████▍    | 1.2 MB 8.5 MB/s eta 0:00:01\r\u001b[K     |███████████████████████████▊    | 1.2 MB 8.5 MB/s eta 0:00:01\r\u001b[K     |████████████████████████████    | 1.2 MB 8.5 MB/s eta 0:00:01\r\u001b[K     |████████████████████████████▏   | 1.2 MB 8.5 MB/s eta 0:00:01\r\u001b[K     |████████████████████████████▍   | 1.2 MB 8.5 MB/s eta 0:00:01\r\u001b[K     |████████████████████████████▋   | 1.2 MB 8.5 MB/s eta 0:00:01\r\u001b[K     |████████████████████████████▉   | 1.2 MB 8.5 MB/s eta 0:00:01\r\u001b[K     |█████████████████████████████   | 1.3 MB 8.5 MB/s eta 0:00:01\r\u001b[K     |█████████████████████████████▎  | 1.3 MB 8.5 MB/s eta 0:00:01\r\u001b[K     |█████████████████████████████▋  | 1.3 MB 8.5 MB/s eta 0:00:01\r\u001b[K     |█████████████████████████████▉  | 1.3 MB 8.5 MB/s eta 0:00:01\r\u001b[K     |██████████████████████████████  | 1.3 MB 8.5 MB/s eta 0:00:01\r\u001b[K     |██████████████████████████████▎ | 1.3 MB 8.5 MB/s eta 0:00:01\r\u001b[K     |██████████████████████████████▌ | 1.3 MB 8.5 MB/s eta 0:00:01\r\u001b[K     |██████████████████████████████▊ | 1.3 MB 8.5 MB/s eta 0:00:01\r\u001b[K     |███████████████████████████████ | 1.3 MB 8.5 MB/s eta 0:00:01\r\u001b[K     |███████████████████████████████▎| 1.4 MB 8.5 MB/s eta 0:00:01\r\u001b[K     |███████████████████████████████▌| 1.4 MB 8.5 MB/s eta 0:00:01\r\u001b[K     |███████████████████████████████▊| 1.4 MB 8.5 MB/s eta 0:00:01\r\u001b[K     |████████████████████████████████| 1.4 MB 8.5 MB/s eta 0:00:01\r\u001b[K     |████████████████████████████████| 1.4 MB 8.5 MB/s \n",
            "\u001b[?25hRequirement already satisfied: joblib>=0.11 in /usr/local/lib/python3.7/dist-packages (from pmdarima) (1.1.0)\n",
            "Requirement already satisfied: pandas>=0.19 in /usr/local/lib/python3.7/dist-packages (from pmdarima) (1.3.5)\n",
            "Requirement already satisfied: scikit-learn>=0.22 in /usr/local/lib/python3.7/dist-packages (from pmdarima) (1.0.2)\n",
            "Requirement already satisfied: scipy>=1.3.2 in /usr/local/lib/python3.7/dist-packages (from pmdarima) (1.4.1)\n",
            "Requirement already satisfied: setuptools!=50.0.0,>=38.6.0 in /usr/local/lib/python3.7/dist-packages (from pmdarima) (57.4.0)\n",
            "Requirement already satisfied: Cython!=0.29.18,>=0.29 in /usr/local/lib/python3.7/dist-packages (from pmdarima) (0.29.28)\n",
            "Collecting statsmodels!=0.12.0,>=0.11\n",
            "  Downloading statsmodels-0.13.2-cp37-cp37m-manylinux_2_17_x86_64.manylinux2014_x86_64.whl (9.8 MB)\n",
            "\u001b[K     |████████████████████████████████| 9.8 MB 42.0 MB/s \n",
            "\u001b[?25hRequirement already satisfied: numpy>=1.19.3 in /usr/local/lib/python3.7/dist-packages (from pmdarima) (1.21.5)\n",
            "Requirement already satisfied: urllib3 in /usr/local/lib/python3.7/dist-packages (from pmdarima) (1.24.3)\n",
            "Requirement already satisfied: pytz>=2017.3 in /usr/local/lib/python3.7/dist-packages (from pandas>=0.19->pmdarima) (2018.9)\n",
            "Requirement already satisfied: python-dateutil>=2.7.3 in /usr/local/lib/python3.7/dist-packages (from pandas>=0.19->pmdarima) (2.8.2)\n",
            "Requirement already satisfied: six>=1.5 in /usr/local/lib/python3.7/dist-packages (from python-dateutil>=2.7.3->pandas>=0.19->pmdarima) (1.15.0)\n",
            "Requirement already satisfied: threadpoolctl>=2.0.0 in /usr/local/lib/python3.7/dist-packages (from scikit-learn>=0.22->pmdarima) (3.1.0)\n",
            "Requirement already satisfied: patsy>=0.5.2 in /usr/local/lib/python3.7/dist-packages (from statsmodels!=0.12.0,>=0.11->pmdarima) (0.5.2)\n",
            "Requirement already satisfied: packaging>=21.3 in /usr/local/lib/python3.7/dist-packages (from statsmodels!=0.12.0,>=0.11->pmdarima) (21.3)\n",
            "Requirement already satisfied: pyparsing!=3.0.5,>=2.0.2 in /usr/local/lib/python3.7/dist-packages (from packaging>=21.3->statsmodels!=0.12.0,>=0.11->pmdarima) (3.0.7)\n",
            "Installing collected packages: statsmodels, pmdarima\n",
            "  Attempting uninstall: statsmodels\n",
            "    Found existing installation: statsmodels 0.10.2\n",
            "    Uninstalling statsmodels-0.10.2:\n",
            "      Successfully uninstalled statsmodels-0.10.2\n",
            "Successfully installed pmdarima-1.8.5 statsmodels-0.13.2\n"
          ]
        }
      ]
    },
    {
      "cell_type": "code",
      "source": [
        "from pmdarima.arima import auto_arima\n",
        "from pmdarima.arima import ADFTest"
      ],
      "metadata": {
        "id": "okTlk9bmQCyW"
      },
      "execution_count": null,
      "outputs": []
    },
    {
      "cell_type": "markdown",
      "source": [
        "### Dos semanas"
      ],
      "metadata": {
        "id": "kH0W889WbVUv"
      }
    },
    {
      "cell_type": "code",
      "source": [
        "df_time_2semanas = df_time.resample('15D').sum()"
      ],
      "metadata": {
        "id": "vA4gneQYbPzC"
      },
      "execution_count": null,
      "outputs": []
    },
    {
      "cell_type": "code",
      "source": [
        "adf_test = ADFTest(alpha= 0.05)\n",
        "adf_test.should_diff(df_time_2semanas)"
      ],
      "metadata": {
        "colab": {
          "base_uri": "https://localhost:8080/"
        },
        "id": "wC0LZPpgQb62",
        "outputId": "80abca95-6f6a-4415-e0b7-0c940e4a1b61"
      },
      "execution_count": null,
      "outputs": [
        {
          "output_type": "execute_result",
          "data": {
            "text/plain": [
              "(0.05122677561589561, True)"
            ]
          },
          "metadata": {},
          "execution_count": 101
        }
      ]
    },
    {
      "cell_type": "code",
      "source": [
        "df_time_2semanas.shape"
      ],
      "metadata": {
        "colab": {
          "base_uri": "https://localhost:8080/"
        },
        "id": "dbXozuO3Vj-2",
        "outputId": "2575b8b1-35d4-4617-e6de-a6b056ad32db"
      },
      "execution_count": null,
      "outputs": [
        {
          "output_type": "execute_result",
          "data": {
            "text/plain": [
              "(195,)"
            ]
          },
          "metadata": {},
          "execution_count": 102
        }
      ]
    },
    {
      "cell_type": "code",
      "source": [
        "train = df_time_2semanas.iloc[:150]\n",
        "test = df_time_2semanas.iloc[150:]"
      ],
      "metadata": {
        "id": "M9_c7-y0QuZo"
      },
      "execution_count": null,
      "outputs": []
    },
    {
      "cell_type": "code",
      "source": [
        "plt.plot(train, label='Training')\n",
        "plt.plot(test, label='Test')"
      ],
      "metadata": {
        "colab": {
          "base_uri": "https://localhost:8080/",
          "height": 284
        },
        "id": "4qUF89UWOwPJ",
        "outputId": "2edaaba2-0ffb-439f-be9d-4c02ec4e6710"
      },
      "execution_count": null,
      "outputs": [
        {
          "output_type": "execute_result",
          "data": {
            "text/plain": [
              "[<matplotlib.lines.Line2D at 0x7f1c50bd6690>]"
            ]
          },
          "metadata": {},
          "execution_count": 108
        },
        {
          "output_type": "display_data",
          "data": {
            "image/png": "[encoded data removed]",
            "text/plain": [
              "<Figure size 432x288 with 1 Axes>"
            ]
          },
          "metadata": {
            "needs_background": "light"
          }
        }
      ]
    },
    {
      "cell_type": "code",
      "source": [
        "test.shape"
      ],
      "metadata": {
        "colab": {
          "base_uri": "https://localhost:8080/"
        },
        "id": "ggtb_xy4N93h",
        "outputId": "22d68bba-784a-45a3-9790-f402917130a4"
      },
      "execution_count": null,
      "outputs": [
        {
          "output_type": "execute_result",
          "data": {
            "text/plain": [
              "(45,)"
            ]
          },
          "metadata": {},
          "execution_count": 109
        }
      ]
    },
    {
      "cell_type": "code",
      "source": [
        "arima_model = auto_arima(train,start_p=0, d=1, start_q=0,max_p=5, max_d=4, max_q=5,D=1, start_Q=0, max_P=5, max_D=5, max_Q=5, m=26, seasonal=True, error_action='warn', trace=True, supress_warnings=True, stepwise=True, random_state=20, n_fits=50, scoring='mse')"
      ],
      "metadata": {
        "colab": {
          "base_uri": "https://localhost:8080/"
        },
        "id": "ZIqylbPbQ-nG",
        "outputId": "d0371a3c-b1d2-41ae-e157-5d4b47adb532"
      },
      "execution_count": null,
      "outputs": [
        {
          "output_type": "stream",
          "name": "stdout",
          "text": [
            "Performing stepwise search to minimize aic\n",
            " ARIMA(0,1,0)(1,1,0)[26]             : AIC=1402.521, Time=0.49 sec\n",
            " ARIMA(0,1,0)(0,1,0)[26]             : AIC=1406.398, Time=0.05 sec\n",
            " ARIMA(1,1,0)(1,1,0)[26]             : AIC=1401.380, Time=0.64 sec\n",
            " ARIMA(0,1,1)(0,1,1)[26]             : AIC=1394.416, Time=1.28 sec\n",
            " ARIMA(0,1,1)(0,1,0)[26]             : AIC=1397.119, Time=0.15 sec\n",
            " ARIMA(0,1,1)(1,1,1)[26]             : AIC=1396.225, Time=2.60 sec\n",
            " ARIMA(0,1,1)(0,1,2)[26]             : AIC=1396.145, Time=6.79 sec\n",
            " ARIMA(0,1,1)(1,1,0)[26]             : AIC=1395.448, Time=1.14 sec\n",
            " ARIMA(0,1,1)(1,1,2)[26]             : AIC=inf, Time=4.74 sec\n",
            " ARIMA(0,1,0)(0,1,1)[26]             : AIC=1400.070, Time=2.13 sec\n",
            " ARIMA(1,1,1)(0,1,1)[26]             : AIC=inf, Time=2.82 sec\n",
            " ARIMA(0,1,2)(0,1,1)[26]             : AIC=inf, Time=3.59 sec\n",
            " ARIMA(1,1,0)(0,1,1)[26]             : AIC=1399.475, Time=2.73 sec\n",
            " ARIMA(1,1,2)(0,1,1)[26]             : AIC=inf, Time=3.02 sec\n",
            " ARIMA(0,1,1)(0,1,1)[26] intercept   : AIC=1396.407, Time=3.32 sec\n",
            "\n",
            "Best model:  ARIMA(0,1,1)(0,1,1)[26]          \n",
            "Total fit time: 35.525 seconds\n"
          ]
        }
      ]
    },
    {
      "cell_type": "code",
      "source": [
        "arima_model.summary()"
      ],
      "metadata": {
        "id": "G2Vtg0mOSX9-",
        "colab": {
          "base_uri": "https://localhost:8080/",
          "height": 426
        },
        "outputId": "551daf1d-b94e-42c5-a0cd-5e522c2f1e32"
      },
      "execution_count": null,
      "outputs": [
        {
          "output_type": "execute_result",
          "data": {
            "text/html": [
              "<table class=\"simpletable\">\n",
              "<caption>SARIMAX Results</caption>\n",
              "<tr>\n",
              "  <th>Dep. Variable:</th>                  <td>y</td>               <th>  No. Observations:  </th>    <td>150</td>  \n",
              "</tr>\n",
              "<tr>\n",
              "  <th>Model:</th>           <td>SARIMAX(0, 1, 1)x(0, 1, 1, 26)</td> <th>  Log Likelihood     </th> <td>-694.208</td>\n",
              "</tr>\n",
              "<tr>\n",
              "  <th>Date:</th>                   <td>Wed, 02 Mar 2022</td>        <th>  AIC                </th> <td>1394.416</td>\n",
              "</tr>\n",
              "<tr>\n",
              "  <th>Time:</th>                       <td>16:49:32</td>            <th>  BIC                </th> <td>1402.852</td>\n",
              "</tr>\n",
              "<tr>\n",
              "  <th>Sample:</th>                         <td>0</td>               <th>  HQIC               </th> <td>1397.843</td>\n",
              "</tr>\n",
              "<tr>\n",
              "  <th></th>                             <td> - 150</td>             <th>                     </th>     <td> </td>   \n",
              "</tr>\n",
              "<tr>\n",
              "  <th>Covariance Type:</th>               <td>opg</td>              <th>                     </th>     <td> </td>   \n",
              "</tr>\n",
              "</table>\n",
              "<table class=\"simpletable\">\n",
              "<tr>\n",
              "      <td></td>        <th>coef</th>     <th>std err</th>      <th>z</th>      <th>P>|z|</th>  <th>[0.025</th>    <th>0.975]</th>  \n",
              "</tr>\n",
              "<tr>\n",
              "  <th>ma.L1</th>    <td>   -0.4961</td> <td>    0.048</td> <td>  -10.292</td> <td> 0.000</td> <td>   -0.591</td> <td>   -0.402</td>\n",
              "</tr>\n",
              "<tr>\n",
              "  <th>ma.S.L26</th> <td>   -0.3140</td> <td>    0.149</td> <td>   -2.100</td> <td> 0.036</td> <td>   -0.607</td> <td>   -0.021</td>\n",
              "</tr>\n",
              "<tr>\n",
              "  <th>sigma2</th>   <td> 4564.8880</td> <td>  222.509</td> <td>   20.516</td> <td> 0.000</td> <td> 4128.778</td> <td> 5000.998</td>\n",
              "</tr>\n",
              "</table>\n",
              "<table class=\"simpletable\">\n",
              "<tr>\n",
              "  <th>Ljung-Box (L1) (Q):</th>     <td>3.97</td> <th>  Jarque-Bera (JB):  </th> <td>865.36</td>\n",
              "</tr>\n",
              "<tr>\n",
              "  <th>Prob(Q):</th>                <td>0.05</td> <th>  Prob(JB):          </th>  <td>0.00</td> \n",
              "</tr>\n",
              "<tr>\n",
              "  <th>Heteroskedasticity (H):</th> <td>6.67</td> <th>  Skew:              </th>  <td>2.04</td> \n",
              "</tr>\n",
              "<tr>\n",
              "  <th>Prob(H) (two-sided):</th>    <td>0.00</td> <th>  Kurtosis:          </th>  <td>15.34</td>\n",
              "</tr>\n",
              "</table><br/><br/>Warnings:<br/>[1] Covariance matrix calculated using the outer product of gradients (complex-step)."
            ],
            "text/plain": [
              "<class 'statsmodels.iolib.summary.Summary'>\n",
              "\"\"\"\n",
              "                                     SARIMAX Results                                      \n",
              "==========================================================================================\n",
              "Dep. Variable:                                  y   No. Observations:                  150\n",
              "Model:             SARIMAX(0, 1, 1)x(0, 1, 1, 26)   Log Likelihood                -694.208\n",
              "Date:                            Wed, 02 Mar 2022   AIC                           1394.416\n",
              "Time:                                    16:49:32   BIC                           1402.852\n",
              "Sample:                                         0   HQIC                          1397.843\n",
              "                                            - 150                                         \n",
              "Covariance Type:                              opg                                         \n",
              "==============================================================================\n",
              "                 coef    std err          z      P>|z|      [0.025      0.975]\n",
              "------------------------------------------------------------------------------\n",
              "ma.L1         -0.4961      0.048    -10.292      0.000      -0.591      -0.402\n",
              "ma.S.L26      -0.3140      0.149     -2.100      0.036      -0.607      -0.021\n",
              "sigma2      4564.8880    222.509     20.516      0.000    4128.778    5000.998\n",
              "===================================================================================\n",
              "Ljung-Box (L1) (Q):                   3.97   Jarque-Bera (JB):               865.36\n",
              "Prob(Q):                              0.05   Prob(JB):                         0.00\n",
              "Heteroskedasticity (H):               6.67   Skew:                             2.04\n",
              "Prob(H) (two-sided):                  0.00   Kurtosis:                        15.34\n",
              "===================================================================================\n",
              "\n",
              "Warnings:\n",
              "[1] Covariance matrix calculated using the outer product of gradients (complex-step).\n",
              "\"\"\""
            ]
          },
          "metadata": {},
          "execution_count": 111
        }
      ]
    },
    {
      "cell_type": "code",
      "source": [
        "prediction = pd.DataFrame(arima_model.predict(n_periods =45), index=test.index)\n",
        "prediction.columns = ['Predicción']\n",
        "prediction\n",
        "prediction['Real'] = test"
      ],
      "metadata": {
        "id": "7BYZwaF3LUmV"
      },
      "execution_count": null,
      "outputs": []
    },
    {
      "cell_type": "code",
      "source": [
        "from sklearn.metrics import *"
      ],
      "metadata": {
        "id": "54F2-3R8L7KS"
      },
      "execution_count": null,
      "outputs": []
    },
    {
      "cell_type": "code",
      "source": [
        "plt.plot(train, label='Training')\n",
        "plt.plot(test, label='Test')\n",
        "plt.plot(prediction['Predicción'])"
      ],
      "metadata": {
        "colab": {
          "base_uri": "https://localhost:8080/",
          "height": 284
        },
        "id": "YPTauvwNQNUa",
        "outputId": "5b2d29fd-7c92-4edc-80a8-233c97a0a857"
      },
      "execution_count": null,
      "outputs": [
        {
          "output_type": "execute_result",
          "data": {
            "text/plain": [
              "[<matplotlib.lines.Line2D at 0x7f1c50d18350>]"
            ]
          },
          "metadata": {},
          "execution_count": 114
        },
        {
          "output_type": "display_data",
          "data": {
            "image/png": "[encoded data removed]",
            "text/plain": [
              "<Figure size 432x288 with 1 Axes>"
            ]
          },
          "metadata": {
            "needs_background": "light"
          }
        }
      ]
    },
    {
      "cell_type": "code",
      "source": [
        "r2 = r2_score(prediction['Real'],prediction['Predicción'])\n",
        "mse = mean_squared_error(prediction['Real'],prediction['Predicción'])\n",
        "mae = mean_absolute_error(prediction['Real'],prediction['Predicción'])\n",
        "print('R2:', r2)\n",
        "print('MSE:', mse)\n",
        "print('MAE:', mae)"
      ],
      "metadata": {
        "colab": {
          "base_uri": "https://localhost:8080/"
        },
        "id": "FUf5Anc4gWdl",
        "outputId": "727ed97b-bfd9-4031-95bd-79c12a111806"
      },
      "execution_count": null,
      "outputs": [
        {
          "output_type": "stream",
          "name": "stdout",
          "text": [
            "R2: -0.8741495761681028\n",
            "MSE: 34264.23541616056\n",
            "MAE: 147.73394760179008\n"
          ]
        }
      ]
    },
    {
      "cell_type": "markdown",
      "source": [
        "### Mes"
      ],
      "metadata": {
        "id": "N89S94y0dbb1"
      }
    },
    {
      "cell_type": "code",
      "source": [
        "df_time_mes = df_time.resample('M').sum()"
      ],
      "metadata": {
        "id": "bvdbssOIf77b"
      },
      "execution_count": null,
      "outputs": []
    },
    {
      "cell_type": "code",
      "source": [
        "adf_test = ADFTest(alpha= 0.05)\n",
        "adf_test.should_diff(df_time_mes)"
      ],
      "metadata": {
        "id": "L-nVawpOgC0A",
        "colab": {
          "base_uri": "https://localhost:8080/"
        },
        "outputId": "55a872a5-cced-4a2f-f5e7-ed5fc83f3f5f"
      },
      "execution_count": null,
      "outputs": [
        {
          "output_type": "execute_result",
          "data": {
            "text/plain": [
              "(0.08969613301148434, True)"
            ]
          },
          "metadata": {},
          "execution_count": 117
        }
      ]
    },
    {
      "cell_type": "code",
      "source": [
        "df_time_mes.shape"
      ],
      "metadata": {
        "id": "z2drDfZLhMzX",
        "colab": {
          "base_uri": "https://localhost:8080/"
        },
        "outputId": "54c4c635-c261-400d-9d7f-f1cb345ac388"
      },
      "execution_count": null,
      "outputs": [
        {
          "output_type": "execute_result",
          "data": {
            "text/plain": [
              "(96,)"
            ]
          },
          "metadata": {},
          "execution_count": 118
        }
      ]
    },
    {
      "cell_type": "code",
      "source": [
        "train = df_time_mes.iloc[:85]\n",
        "test = df_time_mes.iloc[86:]"
      ],
      "metadata": {
        "id": "mLOVGzqdgCoe"
      },
      "execution_count": null,
      "outputs": []
    },
    {
      "cell_type": "code",
      "source": [
        "test.shape"
      ],
      "metadata": {
        "colab": {
          "base_uri": "https://localhost:8080/"
        },
        "id": "lw-25G3Ji6QQ",
        "outputId": "b4c76716-cbad-4d28-c81b-55b8d7ccfa5d"
      },
      "execution_count": null,
      "outputs": [
        {
          "output_type": "execute_result",
          "data": {
            "text/plain": [
              "(10,)"
            ]
          },
          "metadata": {},
          "execution_count": 135
        }
      ]
    },
    {
      "cell_type": "code",
      "source": [
        "arima_model = auto_arima(train,start_p=0, d=1, start_q=0,max_p=5, max_d=4, max_q=5,D=1, start_Q=0, max_P=5, max_D=5, max_Q=5, m=12, seasonal=True, error_action='warn', trace=True, supress_warnings=True, stepwise=True, random_state=20, n_fits=100, scoring='mse')"
      ],
      "metadata": {
        "colab": {
          "base_uri": "https://localhost:8080/"
        },
        "id": "aF8VuhuQeD7T",
        "outputId": "54e02ef1-05bd-48fe-9466-8a78cd5bb803"
      },
      "execution_count": null,
      "outputs": [
        {
          "output_type": "stream",
          "name": "stdout",
          "text": [
            "Performing stepwise search to minimize aic\n",
            " ARIMA(0,1,0)(1,1,0)[12]             : AIC=977.187, Time=0.11 sec\n",
            " ARIMA(0,1,0)(0,1,0)[12]             : AIC=1010.465, Time=0.02 sec\n",
            " ARIMA(1,1,0)(1,1,0)[12]             : AIC=970.660, Time=0.15 sec\n",
            " ARIMA(0,1,1)(0,1,1)[12]             : AIC=966.093, Time=0.56 sec\n",
            " ARIMA(0,1,1)(0,1,0)[12]             : AIC=982.503, Time=0.07 sec\n",
            " ARIMA(0,1,1)(1,1,1)[12]             : AIC=964.843, Time=0.73 sec\n",
            " ARIMA(0,1,1)(1,1,0)[12]             : AIC=965.434, Time=0.25 sec\n",
            " ARIMA(0,1,1)(2,1,1)[12]             : AIC=964.916, Time=1.98 sec\n",
            " ARIMA(0,1,1)(1,1,2)[12]             : AIC=965.306, Time=1.55 sec\n",
            " ARIMA(0,1,1)(0,1,2)[12]             : AIC=963.717, Time=1.11 sec\n",
            " ARIMA(0,1,1)(0,1,3)[12]             : AIC=965.187, Time=3.17 sec\n",
            " ARIMA(0,1,1)(1,1,3)[12]             : AIC=inf, Time=5.73 sec\n",
            " ARIMA(0,1,0)(0,1,2)[12]             : AIC=970.369, Time=1.36 sec\n",
            " ARIMA(1,1,1)(0,1,2)[12]             : AIC=957.888, Time=2.07 sec\n",
            " ARIMA(1,1,1)(0,1,1)[12]             : AIC=inf, Time=0.65 sec\n",
            " ARIMA(1,1,1)(1,1,2)[12]             : AIC=959.312, Time=1.60 sec\n",
            " ARIMA(1,1,1)(0,1,3)[12]             : AIC=inf, Time=1.99 sec\n",
            " ARIMA(1,1,1)(1,1,1)[12]             : AIC=958.650, Time=0.99 sec\n",
            " ARIMA(1,1,1)(1,1,3)[12]             : AIC=inf, Time=3.62 sec\n",
            " ARIMA(1,1,0)(0,1,2)[12]             : AIC=966.054, Time=0.57 sec\n",
            " ARIMA(2,1,1)(0,1,2)[12]             : AIC=966.788, Time=2.47 sec\n",
            " ARIMA(1,1,2)(0,1,2)[12]             : AIC=inf, Time=1.51 sec\n",
            " ARIMA(0,1,2)(0,1,2)[12]             : AIC=959.343, Time=1.17 sec\n",
            " ARIMA(2,1,0)(0,1,2)[12]             : AIC=966.514, Time=0.77 sec\n",
            " ARIMA(2,1,2)(0,1,2)[12]             : AIC=inf, Time=2.42 sec\n",
            " ARIMA(1,1,1)(0,1,2)[12] intercept   : AIC=inf, Time=1.76 sec\n",
            "\n",
            "Best model:  ARIMA(1,1,1)(0,1,2)[12]          \n",
            "Total fit time: 38.424 seconds\n"
          ]
        }
      ]
    },
    {
      "cell_type": "code",
      "source": [
        "arima_model.summary()"
      ],
      "metadata": {
        "colab": {
          "base_uri": "https://localhost:8080/",
          "height": 469
        },
        "id": "UQKcKOf0eWlk",
        "outputId": "09725bf3-0d2e-4db5-f6e2-72e07c951971"
      },
      "execution_count": null,
      "outputs": [
        {
          "output_type": "execute_result",
          "data": {
            "text/html": [
              "<table class=\"simpletable\">\n",
              "<caption>SARIMAX Results</caption>\n",
              "<tr>\n",
              "  <th>Dep. Variable:</th>                    <td>y</td>                  <th>  No. Observations:  </th>    <td>85</td>   \n",
              "</tr>\n",
              "<tr>\n",
              "  <th>Model:</th>           <td>SARIMAX(1, 1, 1)x(0, 1, [1, 2], 12)</td> <th>  Log Likelihood     </th> <td>-473.944</td>\n",
              "</tr>\n",
              "<tr>\n",
              "  <th>Date:</th>                     <td>Wed, 02 Mar 2022</td>           <th>  AIC                </th>  <td>957.888</td>\n",
              "</tr>\n",
              "<tr>\n",
              "  <th>Time:</th>                         <td>16:54:20</td>               <th>  BIC                </th>  <td>969.271</td>\n",
              "</tr>\n",
              "<tr>\n",
              "  <th>Sample:</th>                           <td>0</td>                  <th>  HQIC               </th>  <td>962.419</td>\n",
              "</tr>\n",
              "<tr>\n",
              "  <th></th>                                <td> - 85</td>                <th>                     </th>     <td> </td>   \n",
              "</tr>\n",
              "<tr>\n",
              "  <th>Covariance Type:</th>                 <td>opg</td>                 <th>                     </th>     <td> </td>   \n",
              "</tr>\n",
              "</table>\n",
              "<table class=\"simpletable\">\n",
              "<tr>\n",
              "      <td></td>        <th>coef</th>     <th>std err</th>      <th>z</th>      <th>P>|z|</th>  <th>[0.025</th>    <th>0.975]</th>  \n",
              "</tr>\n",
              "<tr>\n",
              "  <th>ar.L1</th>    <td>    0.4101</td> <td>    0.122</td> <td>    3.365</td> <td> 0.001</td> <td>    0.171</td> <td>    0.649</td>\n",
              "</tr>\n",
              "<tr>\n",
              "  <th>ma.L1</th>    <td>   -0.9078</td> <td>    0.086</td> <td>  -10.562</td> <td> 0.000</td> <td>   -1.076</td> <td>   -0.739</td>\n",
              "</tr>\n",
              "<tr>\n",
              "  <th>ma.S.L12</th> <td>   -0.9080</td> <td>    0.128</td> <td>   -7.085</td> <td> 0.000</td> <td>   -1.159</td> <td>   -0.657</td>\n",
              "</tr>\n",
              "<tr>\n",
              "  <th>ma.S.L24</th> <td>    0.4855</td> <td>    0.306</td> <td>    1.584</td> <td> 0.113</td> <td>   -0.115</td> <td>    1.086</td>\n",
              "</tr>\n",
              "<tr>\n",
              "  <th>sigma2</th>   <td> 2.565e+04</td> <td> 4081.463</td> <td>    6.284</td> <td> 0.000</td> <td> 1.76e+04</td> <td> 3.36e+04</td>\n",
              "</tr>\n",
              "</table>\n",
              "<table class=\"simpletable\">\n",
              "<tr>\n",
              "  <th>Ljung-Box (L1) (Q):</th>     <td>0.09</td>  <th>  Jarque-Bera (JB):  </th> <td>623.78</td>\n",
              "</tr>\n",
              "<tr>\n",
              "  <th>Prob(Q):</th>                <td>0.77</td>  <th>  Prob(JB):          </th>  <td>0.00</td> \n",
              "</tr>\n",
              "<tr>\n",
              "  <th>Heteroskedasticity (H):</th> <td>14.10</td> <th>  Skew:              </th>  <td>1.86</td> \n",
              "</tr>\n",
              "<tr>\n",
              "  <th>Prob(H) (two-sided):</th>    <td>0.00</td>  <th>  Kurtosis:          </th>  <td>16.93</td>\n",
              "</tr>\n",
              "</table><br/><br/>Warnings:<br/>[1] Covariance matrix calculated using the outer product of gradients (complex-step)."
            ],
            "text/plain": [
              "<class 'statsmodels.iolib.summary.Summary'>\n",
              "\"\"\"\n",
              "                                        SARIMAX Results                                        \n",
              "===============================================================================================\n",
              "Dep. Variable:                                       y   No. Observations:                   85\n",
              "Model:             SARIMAX(1, 1, 1)x(0, 1, [1, 2], 12)   Log Likelihood                -473.944\n",
              "Date:                                 Wed, 02 Mar 2022   AIC                            957.888\n",
              "Time:                                         16:54:20   BIC                            969.271\n",
              "Sample:                                              0   HQIC                           962.419\n",
              "                                                  - 85                                         \n",
              "Covariance Type:                                   opg                                         \n",
              "==============================================================================\n",
              "                 coef    std err          z      P>|z|      [0.025      0.975]\n",
              "------------------------------------------------------------------------------\n",
              "ar.L1          0.4101      0.122      3.365      0.001       0.171       0.649\n",
              "ma.L1         -0.9078      0.086    -10.562      0.000      -1.076      -0.739\n",
              "ma.S.L12      -0.9080      0.128     -7.085      0.000      -1.159      -0.657\n",
              "ma.S.L24       0.4855      0.306      1.584      0.113      -0.115       1.086\n",
              "sigma2      2.565e+04   4081.463      6.284      0.000    1.76e+04    3.36e+04\n",
              "===================================================================================\n",
              "Ljung-Box (L1) (Q):                   0.09   Jarque-Bera (JB):               623.78\n",
              "Prob(Q):                              0.77   Prob(JB):                         0.00\n",
              "Heteroskedasticity (H):              14.10   Skew:                             1.86\n",
              "Prob(H) (two-sided):                  0.00   Kurtosis:                        16.93\n",
              "===================================================================================\n",
              "\n",
              "Warnings:\n",
              "[1] Covariance matrix calculated using the outer product of gradients (complex-step).\n",
              "\"\"\""
            ]
          },
          "metadata": {},
          "execution_count": 139
        }
      ]
    },
    {
      "cell_type": "code",
      "source": [
        "prediction = pd.DataFrame(arima_model.predict(n_periods =10), index=test.index)\n",
        "prediction.columns = ['Predicción']\n",
        "prediction['Real'] = test"
      ],
      "metadata": {
        "id": "LLgY7ySBeYbE"
      },
      "execution_count": null,
      "outputs": []
    },
    {
      "cell_type": "code",
      "source": [
        "r2 = r2_score(prediction['Real'],prediction['Predicción'])\n",
        "mse = mean_squared_error(prediction['Real'],prediction['Predicción'])\n",
        "mae = mean_absolute_error(prediction['Real'],prediction['Predicción'])\n",
        "print('R2:', r2)\n",
        "print('MSE:', mse)\n",
        "print('MAE:', mae)"
      ],
      "metadata": {
        "colab": {
          "base_uri": "https://localhost:8080/"
        },
        "id": "DWw9PLLgekkG",
        "outputId": "4ed59d6d-2601-4cd9-a007-6285e6f2c643"
      },
      "execution_count": null,
      "outputs": [
        {
          "output_type": "stream",
          "name": "stdout",
          "text": [
            "R2: -0.3814741967786708\n",
            "MSE: 87997.36442227925\n",
            "MAE: 262.04191756775106\n"
          ]
        }
      ]
    },
    {
      "cell_type": "code",
      "source": [
        "plt.plot(train, label='Training')\n",
        "plt.plot(test, label='Test')\n",
        "plt.plot(prediction['Predicción'])"
      ],
      "metadata": {
        "colab": {
          "base_uri": "https://localhost:8080/",
          "height": 284
        },
        "id": "fAI7-xDggYuz",
        "outputId": "655f4b76-2c24-4f16-d0dd-ef21048bbec1"
      },
      "execution_count": null,
      "outputs": [
        {
          "output_type": "execute_result",
          "data": {
            "text/plain": [
              "[<matplotlib.lines.Line2D at 0x7f1c509dec50>]"
            ]
          },
          "metadata": {},
          "execution_count": 142
        },
        {
          "output_type": "display_data",
          "data": {
            "image/png": "[encoded data removed]",
            "text/plain": [
              "<Figure size 432x288 with 1 Axes>"
            ]
          },
          "metadata": {
            "needs_background": "light"
          }
        }
      ]
    },
    {
      "cell_type": "markdown",
      "source": [
        "### Anual"
      ],
      "metadata": {
        "id": "sdhFbChbgnDl"
      }
    },
    {
      "cell_type": "code",
      "source": [
        "df_time_anio = df_time.resample('Y').sum()"
      ],
      "metadata": {
        "id": "1xhCH6gXgoxK"
      },
      "execution_count": null,
      "outputs": []
    },
    {
      "cell_type": "code",
      "source": [
        "adf_test = ADFTest(alpha= 0.05)\n",
        "adf_test.should_diff(df_time_anio)"
      ],
      "metadata": {
        "colab": {
          "base_uri": "https://localhost:8080/"
        },
        "id": "vv9Q7Elzgtmb",
        "outputId": "c1a3f04f-c164-4be8-83c4-67568417d047"
      },
      "execution_count": null,
      "outputs": [
        {
          "output_type": "execute_result",
          "data": {
            "text/plain": [
              "(0.9624714941350442, True)"
            ]
          },
          "metadata": {},
          "execution_count": 144
        }
      ]
    },
    {
      "cell_type": "code",
      "source": [
        "df_time_anio.shape"
      ],
      "metadata": {
        "colab": {
          "base_uri": "https://localhost:8080/"
        },
        "id": "eBfUC8uPgzCp",
        "outputId": "753eb99d-e53a-4d4d-896e-4ef0a91c21b8"
      },
      "execution_count": null,
      "outputs": [
        {
          "output_type": "execute_result",
          "data": {
            "text/plain": [
              "(8,)"
            ]
          },
          "metadata": {},
          "execution_count": 145
        }
      ]
    },
    {
      "cell_type": "code",
      "source": [
        "train = df_time_anio.iloc[:6]\n",
        "test = df_time_anio.iloc[6:]"
      ],
      "metadata": {
        "id": "FSniRxK5g3p0"
      },
      "execution_count": null,
      "outputs": []
    },
    {
      "cell_type": "code",
      "source": [
        "test.shape"
      ],
      "metadata": {
        "colab": {
          "base_uri": "https://localhost:8080/"
        },
        "id": "EuUEs8LEg9rD",
        "outputId": "40499c70-eef1-4d7f-a752-6820e640e7c5"
      },
      "execution_count": null,
      "outputs": [
        {
          "output_type": "execute_result",
          "data": {
            "text/plain": [
              "(2,)"
            ]
          },
          "metadata": {},
          "execution_count": 147
        }
      ]
    },
    {
      "cell_type": "code",
      "source": [
        "arima_model = auto_arima(train,start_p=0, d=1, start_q=0,max_p=5, max_d=4, max_q=5,D=1, start_Q=0, max_P=5, max_D=5, max_Q=5, m=1, seasonal=True, error_action='warn', trace=True, supress_warnings=True, stepwise=True, random_state=20, n_fits=100, scoring='mse')"
      ],
      "metadata": {
        "colab": {
          "base_uri": "https://localhost:8080/"
        },
        "id": "mi-guZ5ChAqf",
        "outputId": "91775138-68a0-4ee7-f86d-f5c4b108b563"
      },
      "execution_count": null,
      "outputs": [
        {
          "output_type": "stream",
          "name": "stdout",
          "text": [
            "Performing stepwise search to minimize aic\n",
            " ARIMA(0,1,0)(0,0,0)[0] intercept   : AIC=82.754, Time=0.02 sec\n",
            " ARIMA(1,1,0)(0,0,0)[0] intercept   : AIC=80.917, Time=0.18 sec\n",
            " ARIMA(0,1,1)(0,0,0)[0] intercept   : AIC=193.445, Time=0.50 sec\n",
            " ARIMA(0,1,0)(0,0,0)[0]             : AIC=86.472, Time=0.03 sec\n",
            " ARIMA(2,1,0)(0,0,0)[0] intercept   : AIC=inf, Time=0.56 sec\n",
            " ARIMA(1,1,1)(0,0,0)[0] intercept   : AIC=inf, Time=0.41 sec\n",
            " ARIMA(2,1,1)(0,0,0)[0] intercept   : AIC=109.307, Time=0.81 sec\n",
            " ARIMA(1,1,0)(0,0,0)[0]             : AIC=86.978, Time=0.13 sec\n",
            "\n",
            "Best model:  ARIMA(1,1,0)(0,0,0)[0] intercept\n",
            "Total fit time: 2.678 seconds\n"
          ]
        }
      ]
    },
    {
      "cell_type": "code",
      "source": [
        "arima_model.summary()"
      ],
      "metadata": {
        "colab": {
          "base_uri": "https://localhost:8080/",
          "height": 426
        },
        "id": "a_S3eFZjhGAz",
        "outputId": "5ca27976-d5db-4103-a933-02fc69dea4e2"
      },
      "execution_count": null,
      "outputs": [
        {
          "output_type": "execute_result",
          "data": {
            "text/html": [
              "<table class=\"simpletable\">\n",
              "<caption>SARIMAX Results</caption>\n",
              "<tr>\n",
              "  <th>Dep. Variable:</th>           <td>y</td>        <th>  No. Observations:  </th>    <td>6</td>   \n",
              "</tr>\n",
              "<tr>\n",
              "  <th>Model:</th>           <td>SARIMAX(1, 1, 0)</td> <th>  Log Likelihood     </th> <td>-37.459</td>\n",
              "</tr>\n",
              "<tr>\n",
              "  <th>Date:</th>            <td>Wed, 02 Mar 2022</td> <th>  AIC                </th> <td>80.917</td> \n",
              "</tr>\n",
              "<tr>\n",
              "  <th>Time:</th>                <td>16:55:24</td>     <th>  BIC                </th> <td>79.746</td> \n",
              "</tr>\n",
              "<tr>\n",
              "  <th>Sample:</th>                  <td>0</td>        <th>  HQIC               </th> <td>77.773</td> \n",
              "</tr>\n",
              "<tr>\n",
              "  <th></th>                       <td> - 6</td>       <th>                     </th>    <td> </td>   \n",
              "</tr>\n",
              "<tr>\n",
              "  <th>Covariance Type:</th>        <td>opg</td>       <th>                     </th>    <td> </td>   \n",
              "</tr>\n",
              "</table>\n",
              "<table class=\"simpletable\">\n",
              "<tr>\n",
              "      <td></td>         <th>coef</th>     <th>std err</th>      <th>z</th>      <th>P>|z|</th>  <th>[0.025</th>    <th>0.975]</th>  \n",
              "</tr>\n",
              "<tr>\n",
              "  <th>intercept</th> <td> 1743.4606</td> <td>  691.134</td> <td>    2.523</td> <td> 0.012</td> <td>  388.863</td> <td> 3098.058</td>\n",
              "</tr>\n",
              "<tr>\n",
              "  <th>ar.L1</th>     <td>   -0.6559</td> <td>    0.631</td> <td>   -1.040</td> <td> 0.298</td> <td>   -1.892</td> <td>    0.581</td>\n",
              "</tr>\n",
              "<tr>\n",
              "  <th>sigma2</th>    <td>  1.45e+05</td> <td> 1.92e+05</td> <td>    0.756</td> <td> 0.450</td> <td>-2.31e+05</td> <td> 5.21e+05</td>\n",
              "</tr>\n",
              "</table>\n",
              "<table class=\"simpletable\">\n",
              "<tr>\n",
              "  <th>Ljung-Box (L1) (Q):</th>     <td>0.33</td> <th>  Jarque-Bera (JB):  </th> <td>0.12</td>\n",
              "</tr>\n",
              "<tr>\n",
              "  <th>Prob(Q):</th>                <td>0.57</td> <th>  Prob(JB):          </th> <td>0.94</td>\n",
              "</tr>\n",
              "<tr>\n",
              "  <th>Heteroskedasticity (H):</th> <td>0.83</td> <th>  Skew:              </th> <td>0.07</td>\n",
              "</tr>\n",
              "<tr>\n",
              "  <th>Prob(H) (two-sided):</th>    <td>0.91</td> <th>  Kurtosis:          </th> <td>2.26</td>\n",
              "</tr>\n",
              "</table><br/><br/>Warnings:<br/>[1] Covariance matrix calculated using the outer product of gradients (complex-step)."
            ],
            "text/plain": [
              "<class 'statsmodels.iolib.summary.Summary'>\n",
              "\"\"\"\n",
              "                               SARIMAX Results                                \n",
              "==============================================================================\n",
              "Dep. Variable:                      y   No. Observations:                    6\n",
              "Model:               SARIMAX(1, 1, 0)   Log Likelihood                 -37.459\n",
              "Date:                Wed, 02 Mar 2022   AIC                             80.917\n",
              "Time:                        16:55:24   BIC                             79.746\n",
              "Sample:                             0   HQIC                            77.773\n",
              "                                  - 6                                         \n",
              "Covariance Type:                  opg                                         \n",
              "==============================================================================\n",
              "                 coef    std err          z      P>|z|      [0.025      0.975]\n",
              "------------------------------------------------------------------------------\n",
              "intercept   1743.4606    691.134      2.523      0.012     388.863    3098.058\n",
              "ar.L1         -0.6559      0.631     -1.040      0.298      -1.892       0.581\n",
              "sigma2       1.45e+05   1.92e+05      0.756      0.450   -2.31e+05    5.21e+05\n",
              "===================================================================================\n",
              "Ljung-Box (L1) (Q):                   0.33   Jarque-Bera (JB):                 0.12\n",
              "Prob(Q):                              0.57   Prob(JB):                         0.94\n",
              "Heteroskedasticity (H):               0.83   Skew:                             0.07\n",
              "Prob(H) (two-sided):                  0.91   Kurtosis:                         2.26\n",
              "===================================================================================\n",
              "\n",
              "Warnings:\n",
              "[1] Covariance matrix calculated using the outer product of gradients (complex-step).\n",
              "\"\"\""
            ]
          },
          "metadata": {},
          "execution_count": 149
        }
      ]
    },
    {
      "cell_type": "code",
      "source": [
        "prediction = pd.DataFrame(arima_model.predict(n_periods =2), index=test.index)\n",
        "prediction.columns = ['Predicción']\n",
        "prediction['Real'] = test"
      ],
      "metadata": {
        "id": "Xv8yibg0hGiV"
      },
      "execution_count": null,
      "outputs": []
    },
    {
      "cell_type": "code",
      "source": [
        "prediction"
      ],
      "metadata": {
        "colab": {
          "base_uri": "https://localhost:8080/",
          "height": 144
        },
        "id": "zBgTzHuLhU1L",
        "outputId": "688c8d5e-f54e-41c2-8f54-ea4aff69e82e"
      },
      "execution_count": null,
      "outputs": [
        {
          "output_type": "execute_result",
          "data": {
            "text/html": [
              "\n",
              "  <div id=\"df-5a21c2e9-45d5-4734-ba7d-508980d121e9\">\n",
              "    <div class=\"colab-df-container\">\n",
              "      <div>\n",
              "<style scoped>\n",
              "    .dataframe tbody tr th:only-of-type {\n",
              "        vertical-align: middle;\n",
              "    }\n",
              "\n",
              "    .dataframe tbody tr th {\n",
              "        vertical-align: top;\n",
              "    }\n",
              "\n",
              "    .dataframe thead th {\n",
              "        text-align: right;\n",
              "    }\n",
              "</style>\n",
              "<table border=\"1\" class=\"dataframe\">\n",
              "  <thead>\n",
              "    <tr style=\"text-align: right;\">\n",
              "      <th></th>\n",
              "      <th>Predicción</th>\n",
              "      <th>Real</th>\n",
              "    </tr>\n",
              "    <tr>\n",
              "      <th>FECHA</th>\n",
              "      <th></th>\n",
              "      <th></th>\n",
              "    </tr>\n",
              "  </thead>\n",
              "  <tbody>\n",
              "    <tr>\n",
              "      <th>2020-12-31</th>\n",
              "      <td>11850.541300</td>\n",
              "      <td>8221</td>\n",
              "    </tr>\n",
              "    <tr>\n",
              "      <th>2021-12-31</th>\n",
              "      <td>12560.549572</td>\n",
              "      <td>10350</td>\n",
              "    </tr>\n",
              "  </tbody>\n",
              "</table>\n",
              "</div>\n",
              "      <button class=\"colab-df-convert\" onclick=\"convertToInteractive('df-5a21c2e9-45d5-4734-ba7d-508980d121e9')\"\n",
              "              title=\"Convert this dataframe to an interactive table.\"\n",
              "              style=\"display:none;\">\n",
              "        \n",
              "  <svg xmlns=\"http://www.w3.org/2000/svg\" height=\"24px\"viewBox=\"0 0 24 24\"\n",
              "       width=\"24px\">\n",
              "    <path d=\"M0 0h24v24H0V0z\" fill=\"none\"/>\n",
              "    <path d=\"M18.56 5.44l.94 2.06.94-2.06 2.06-.94-2.06-.94-.94-2.06-.94 2.06-2.06.94zm-11 1L8.5 8.5l.94-2.06 2.06-.94-2.06-.94L8.5 2.5l-.94 2.06-2.06.94zm10 10l.94 2.06.94-2.06 2.06-.94-2.06-.94-.94-2.06-.94 2.06-2.06.94z\"/><path d=\"M17.41 7.96l-1.37-1.37c-.4-.4-.92-.59-1.43-.59-.52 0-1.04.2-1.43.59L10.3 9.45l-7.72 7.72c-.78.78-.78 2.05 0 2.83L4 21.41c.39.39.9.59 1.41.59.51 0 1.02-.2 1.41-.59l7.78-7.78 2.81-2.81c.8-.78.8-2.07 0-2.86zM5.41 20L4 18.59l7.72-7.72 1.47 1.35L5.41 20z\"/>\n",
              "  </svg>\n",
              "      </button>\n",
              "      \n",
              "  <style>\n",
              "    .colab-df-container {\n",
              "      display:flex;\n",
              "      flex-wrap:wrap;\n",
              "      gap: 12px;\n",
              "    }\n",
              "\n",
              "    .colab-df-convert {\n",
              "      background-color: #E8F0FE;\n",
              "      border: none;\n",
              "      border-radius: 50%;\n",
              "      cursor: pointer;\n",
              "      display: none;\n",
              "      fill: #1967D2;\n",
              "      height: 32px;\n",
              "      padding: 0 0 0 0;\n",
              "      width: 32px;\n",
              "    }\n",
              "\n",
              "    .colab-df-convert:hover {\n",
              "      background-color: #E2EBFA;\n",
              "      box-shadow: 0px 1px 2px rgba(60, 64, 67, 0.3), 0px 1px 3px 1px rgba(60, 64, 67, 0.15);\n",
              "      fill: #174EA6;\n",
              "    }\n",
              "\n",
              "    [theme=dark] .colab-df-convert {\n",
              "      background-color: #3B4455;\n",
              "      fill: #D2E3FC;\n",
              "    }\n",
              "\n",
              "    [theme=dark] .colab-df-convert:hover {\n",
              "      background-color: #434B5C;\n",
              "      box-shadow: 0px 1px 3px 1px rgba(0, 0, 0, 0.15);\n",
              "      filter: drop-shadow(0px 1px 2px rgba(0, 0, 0, 0.3));\n",
              "      fill: #FFFFFF;\n",
              "    }\n",
              "  </style>\n",
              "\n",
              "      <script>\n",
              "        const buttonEl =\n",
              "          document.querySelector('#df-5a21c2e9-45d5-4734-ba7d-508980d121e9 button.colab-df-convert');\n",
              "        buttonEl.style.display =\n",
              "          google.colab.kernel.accessAllowed ? 'block' : 'none';\n",
              "\n",
              "        async function convertToInteractive(key) {\n",
              "          const element = document.querySelector('#df-5a21c2e9-45d5-4734-ba7d-508980d121e9');\n",
              "          const dataTable =\n",
              "            await google.colab.kernel.invokeFunction('convertToInteractive',\n",
              "                                                     [key], {});\n",
              "          if (!dataTable) return;\n",
              "\n",
              "          const docLinkHtml = 'Like what you see? Visit the ' +\n",
              "            '<a target=\"_blank\" href=https://colab.research.google.com/notebooks/data_table.ipynb>data table notebook</a>'\n",
              "            + ' to learn more about interactive tables.';\n",
              "          element.innerHTML = '';\n",
              "          dataTable['output_type'] = 'display_data';\n",
              "          await google.colab.output.renderOutput(dataTable, element);\n",
              "          const docLink = document.createElement('div');\n",
              "          docLink.innerHTML = docLinkHtml;\n",
              "          element.appendChild(docLink);\n",
              "        }\n",
              "      </script>\n",
              "    </div>\n",
              "  </div>\n",
              "  "
            ],
            "text/plain": [
              "              Predicción   Real\n",
              "FECHA                          \n",
              "2020-12-31  11850.541300   8221\n",
              "2021-12-31  12560.549572  10350"
            ]
          },
          "metadata": {},
          "execution_count": 151
        }
      ]
    },
    {
      "cell_type": "code",
      "source": [
        "plt.plot(train, label='Training')\n",
        "plt.plot(test, label='Test')\n",
        "plt.plot(prediction['Predicción'])"
      ],
      "metadata": {
        "colab": {
          "base_uri": "https://localhost:8080/",
          "height": 284
        },
        "id": "RJnXj8Zyhe8a",
        "outputId": "b759a59c-8fc3-4e02-8562-848548fa944d"
      },
      "execution_count": null,
      "outputs": [
        {
          "output_type": "execute_result",
          "data": {
            "text/plain": [
              "[<matplotlib.lines.Line2D at 0x7f1c50a83150>]"
            ]
          },
          "metadata": {},
          "execution_count": 152
        },
        {
          "output_type": "display_data",
          "data": {
            "image/png": "[encoded data removed]",
            "text/plain": [
              "<Figure size 432x288 with 1 Axes>"
            ]
          },
          "metadata": {
            "needs_background": "light"
          }
        }
      ]
    }
  ]
}